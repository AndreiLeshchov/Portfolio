{
 "cells": [
  {
   "cell_type": "markdown",
   "metadata": {
    "id": "E0vqbgi9ay0H"
   },
   "source": [
    "# Yandex.music"
   ]
  },
  {
   "cell_type": "markdown",
   "metadata": {
    "id": "VUC88oWjTJw2"
   },
   "source": [
    "**Main goals** — to check 3 hypotheses:\n",
    "1. Users activity depends on weekday. \n",
    "2. Top genres depends on city and part of day (at morning and at evening different top genres) \n",
    "3. Users at Moscow and St. Petersburg prefer differents genres of music. At Moscow people prefers pop, and at SPB people prefer russian rap. "
   ]
  },
  {
   "cell_type": "markdown",
   "metadata": {
    "id": "Ml1hmfXC_Zcs"
   },
   "source": [
    "## Check data\n",
    "\n",
    "\n",
    "\n",
    "\n"
   ]
  },
  {
   "cell_type": "code",
   "execution_count": 1,
   "metadata": {
    "id": "AXN7PHPN_Zcs"
   },
   "outputs": [],
   "source": [
    "import pandas as pd"
   ]
  },
  {
   "cell_type": "code",
   "execution_count": 2,
   "metadata": {
    "id": "fFVu7vqh_Zct"
   },
   "outputs": [],
   "source": [
    "df = pd.read_csv('/Users/andrejlesov/Desktop/yandex_music_project.csv')"
   ]
  },
  {
   "cell_type": "code",
   "execution_count": 3,
   "metadata": {
    "id": "oWTVX3gW_Zct"
   },
   "outputs": [
    {
     "data": {
      "text/html": [
       "<div>\n",
       "<style scoped>\n",
       "    .dataframe tbody tr th:only-of-type {\n",
       "        vertical-align: middle;\n",
       "    }\n",
       "\n",
       "    .dataframe tbody tr th {\n",
       "        vertical-align: top;\n",
       "    }\n",
       "\n",
       "    .dataframe thead th {\n",
       "        text-align: right;\n",
       "    }\n",
       "</style>\n",
       "<table border=\"1\" class=\"dataframe\">\n",
       "  <thead>\n",
       "    <tr style=\"text-align: right;\">\n",
       "      <th></th>\n",
       "      <th>userID</th>\n",
       "      <th>Track</th>\n",
       "      <th>artist</th>\n",
       "      <th>genre</th>\n",
       "      <th>City</th>\n",
       "      <th>time</th>\n",
       "      <th>Day</th>\n",
       "    </tr>\n",
       "  </thead>\n",
       "  <tbody>\n",
       "    <tr>\n",
       "      <th>0</th>\n",
       "      <td>FFB692EC</td>\n",
       "      <td>Kamigata To Boots</td>\n",
       "      <td>The Mass Missile</td>\n",
       "      <td>rock</td>\n",
       "      <td>Saint-Petersburg</td>\n",
       "      <td>20:28:33</td>\n",
       "      <td>Wednesday</td>\n",
       "    </tr>\n",
       "    <tr>\n",
       "      <th>1</th>\n",
       "      <td>55204538</td>\n",
       "      <td>Delayed Because of Accident</td>\n",
       "      <td>Andreas Rönnberg</td>\n",
       "      <td>rock</td>\n",
       "      <td>Moscow</td>\n",
       "      <td>14:07:09</td>\n",
       "      <td>Friday</td>\n",
       "    </tr>\n",
       "    <tr>\n",
       "      <th>2</th>\n",
       "      <td>20EC38</td>\n",
       "      <td>Funiculì funiculà</td>\n",
       "      <td>Mario Lanza</td>\n",
       "      <td>pop</td>\n",
       "      <td>Saint-Petersburg</td>\n",
       "      <td>20:58:07</td>\n",
       "      <td>Wednesday</td>\n",
       "    </tr>\n",
       "    <tr>\n",
       "      <th>3</th>\n",
       "      <td>A3DD03C9</td>\n",
       "      <td>Dragons in the Sunset</td>\n",
       "      <td>Fire + Ice</td>\n",
       "      <td>folk</td>\n",
       "      <td>Saint-Petersburg</td>\n",
       "      <td>08:37:09</td>\n",
       "      <td>Monday</td>\n",
       "    </tr>\n",
       "    <tr>\n",
       "      <th>4</th>\n",
       "      <td>E2DC1FAE</td>\n",
       "      <td>Soul People</td>\n",
       "      <td>Space Echo</td>\n",
       "      <td>dance</td>\n",
       "      <td>Moscow</td>\n",
       "      <td>08:34:34</td>\n",
       "      <td>Monday</td>\n",
       "    </tr>\n",
       "    <tr>\n",
       "      <th>5</th>\n",
       "      <td>842029A1</td>\n",
       "      <td>Преданная</td>\n",
       "      <td>IMPERVTOR</td>\n",
       "      <td>rusrap</td>\n",
       "      <td>Saint-Petersburg</td>\n",
       "      <td>13:09:41</td>\n",
       "      <td>Friday</td>\n",
       "    </tr>\n",
       "    <tr>\n",
       "      <th>6</th>\n",
       "      <td>4CB90AA5</td>\n",
       "      <td>True</td>\n",
       "      <td>Roman Messer</td>\n",
       "      <td>dance</td>\n",
       "      <td>Moscow</td>\n",
       "      <td>13:00:07</td>\n",
       "      <td>Wednesday</td>\n",
       "    </tr>\n",
       "    <tr>\n",
       "      <th>7</th>\n",
       "      <td>F03E1C1F</td>\n",
       "      <td>Feeling This Way</td>\n",
       "      <td>Polina Griffith</td>\n",
       "      <td>dance</td>\n",
       "      <td>Moscow</td>\n",
       "      <td>20:47:49</td>\n",
       "      <td>Wednesday</td>\n",
       "    </tr>\n",
       "    <tr>\n",
       "      <th>8</th>\n",
       "      <td>8FA1D3BE</td>\n",
       "      <td>И вновь продолжается бой</td>\n",
       "      <td>NaN</td>\n",
       "      <td>ruspop</td>\n",
       "      <td>Moscow</td>\n",
       "      <td>09:17:40</td>\n",
       "      <td>Friday</td>\n",
       "    </tr>\n",
       "    <tr>\n",
       "      <th>9</th>\n",
       "      <td>E772D5C0</td>\n",
       "      <td>Pessimist</td>\n",
       "      <td>NaN</td>\n",
       "      <td>dance</td>\n",
       "      <td>Saint-Petersburg</td>\n",
       "      <td>21:20:49</td>\n",
       "      <td>Wednesday</td>\n",
       "    </tr>\n",
       "  </tbody>\n",
       "</table>\n",
       "</div>"
      ],
      "text/plain": [
       "     userID                        Track            artist   genre  \\\n",
       "0  FFB692EC            Kamigata To Boots  The Mass Missile    rock   \n",
       "1  55204538  Delayed Because of Accident  Andreas Rönnberg    rock   \n",
       "2    20EC38            Funiculì funiculà       Mario Lanza     pop   \n",
       "3  A3DD03C9        Dragons in the Sunset        Fire + Ice    folk   \n",
       "4  E2DC1FAE                  Soul People        Space Echo   dance   \n",
       "5  842029A1                    Преданная         IMPERVTOR  rusrap   \n",
       "6  4CB90AA5                         True      Roman Messer   dance   \n",
       "7  F03E1C1F             Feeling This Way   Polina Griffith   dance   \n",
       "8  8FA1D3BE     И вновь продолжается бой               NaN  ruspop   \n",
       "9  E772D5C0                    Pessimist               NaN   dance   \n",
       "\n",
       "             City        time        Day  \n",
       "0  Saint-Petersburg  20:28:33  Wednesday  \n",
       "1            Moscow  14:07:09     Friday  \n",
       "2  Saint-Petersburg  20:58:07  Wednesday  \n",
       "3  Saint-Petersburg  08:37:09     Monday  \n",
       "4            Moscow  08:34:34     Monday  \n",
       "5  Saint-Petersburg  13:09:41     Friday  \n",
       "6            Moscow  13:00:07  Wednesday  \n",
       "7            Moscow  20:47:49  Wednesday  \n",
       "8            Moscow  09:17:40     Friday  \n",
       "9  Saint-Petersburg  21:20:49  Wednesday  "
      ]
     },
     "metadata": {},
     "output_type": "display_data"
    }
   ],
   "source": [
    "display(df.head(10))"
   ]
  },
  {
   "cell_type": "code",
   "execution_count": 4,
   "metadata": {
    "id": "DSf2kIb-_Zct"
   },
   "outputs": [
    {
     "name": "stdout",
     "output_type": "stream",
     "text": [
      "<class 'pandas.core.frame.DataFrame'>\n",
      "RangeIndex: 65079 entries, 0 to 65078\n",
      "Data columns (total 7 columns):\n",
      " #   Column    Non-Null Count  Dtype \n",
      "---  ------    --------------  ----- \n",
      " 0     userID  65079 non-null  object\n",
      " 1   Track     63848 non-null  object\n",
      " 2   artist    57876 non-null  object\n",
      " 3   genre     63881 non-null  object\n",
      " 4     City    65079 non-null  object\n",
      " 5   time      65079 non-null  object\n",
      " 6   Day       65079 non-null  object\n",
      "dtypes: object(7)\n",
      "memory usage: 3.5+ MB\n"
     ]
    }
   ],
   "source": [
    "df.info()"
   ]
  },
  {
   "cell_type": "markdown",
   "metadata": {
    "id": "TaQ2Iwbr_Zct"
   },
   "source": [
    "\n",
    "We have 7 columns in a table. All of them - objects.\n",
    "Names of columns:\n",
    "* `userID`\n",
    "* `Track`   \n",
    "* `artist`\n",
    "* `genre`\n",
    "* `City` \n",
    "* `time` \n",
    "* `Day` \n",
    "\n",
    "So we can see bad style of naming. We will correct it.\n",
    "\n",
    "\n",
    "\n",
    "Also we have a different numbers of information in columns. It is mean that we have empty data.\n"
   ]
  },
  {
   "cell_type": "markdown",
   "metadata": {
    "id": "MCB6-dXG_Zct"
   },
   "source": [
    "**Conclusion**\n",
    "\n",
    "We have  datafreme with 7 columns and we have misses in it.\n"
   ]
  },
  {
   "cell_type": "markdown",
   "metadata": {
    "id": "SjYF6Ub9_Zct"
   },
   "source": [
    "## Data preprocessing\n"
   ]
  },
  {
   "cell_type": "markdown",
   "metadata": {
    "id": "dIaKXr29_Zct"
   },
   "source": [
    "### Columns naming\n"
   ]
  },
  {
   "cell_type": "code",
   "execution_count": 5,
   "metadata": {
    "id": "oKOTdF_Q_Zct"
   },
   "outputs": [
    {
     "data": {
      "text/plain": [
       "Index(['  userID', 'Track', 'artist', 'genre', '  City  ', 'time', 'Day'], dtype='object')"
      ]
     },
     "metadata": {},
     "output_type": "display_data"
    }
   ],
   "source": [
    "display(df.columns)"
   ]
  },
  {
   "cell_type": "code",
   "execution_count": 6,
   "metadata": {
    "id": "ISlFqs5y_Zct"
   },
   "outputs": [],
   "source": [
    "df = df.rename(columns={'  userID':'user_id','Track':'track','  City  ':'city','Day':'day'})# переименование столбцов"
   ]
  },
  {
   "cell_type": "code",
   "execution_count": 7,
   "metadata": {
    "id": "d4NOAmTW_Zct"
   },
   "outputs": [
    {
     "data": {
      "text/plain": [
       "Index(['user_id', 'track', 'artist', 'genre', 'city', 'time', 'day'], dtype='object')"
      ]
     },
     "metadata": {},
     "output_type": "display_data"
    }
   ],
   "source": [
    "display(df.columns)"
   ]
  },
  {
   "cell_type": "markdown",
   "metadata": {
    "id": "5ISfbcfY_Zct"
   },
   "source": [
    "### Misses in dataframe"
   ]
  },
  {
   "cell_type": "code",
   "execution_count": 8,
   "metadata": {
    "id": "RskX29qr_Zct"
   },
   "outputs": [
    {
     "name": "stdout",
     "output_type": "stream",
     "text": [
      "user_id       0\n",
      "track      1231\n",
      "artist     7203\n",
      "genre      1198\n",
      "city          0\n",
      "time          0\n",
      "day           0\n",
      "dtype: int64\n"
     ]
    }
   ],
   "source": [
    "print(df.isna().sum())# count of misses"
   ]
  },
  {
   "cell_type": "markdown",
   "metadata": {
    "id": "qubhgnlO_Zct"
   },
   "source": [
    "We have misses in columns: track, artist and genre. So we can add information about track, genre and artist as 'unknown' instead of misses. "
   ]
  },
  {
   "cell_type": "code",
   "execution_count": 9,
   "metadata": {
    "id": "KplB5qWs_Zct"
   },
   "outputs": [],
   "source": [
    "columns_to_replace = ['track', 'artist', 'genre']\n",
    "for column in columns_to_replace:\n",
    "    df[column] = df[column].fillna('unknown')"
   ]
  },
  {
   "cell_type": "code",
   "execution_count": 10,
   "metadata": {
    "id": "Tq4nYRX4_Zct"
   },
   "outputs": [
    {
     "name": "stdout",
     "output_type": "stream",
     "text": [
      "user_id    0\n",
      "track      0\n",
      "artist     0\n",
      "genre      0\n",
      "city       0\n",
      "time       0\n",
      "day        0\n",
      "dtype: int64\n"
     ]
    }
   ],
   "source": [
    "print(df.isna().sum())"
   ]
  },
  {
   "cell_type": "markdown",
   "metadata": {
    "id": "BWKRtBJ3_Zct"
   },
   "source": [
    "### Duplicates\n"
   ]
  },
  {
   "cell_type": "code",
   "execution_count": 11,
   "metadata": {
    "id": "36eES_S0_Zct"
   },
   "outputs": [
    {
     "data": {
      "text/plain": [
       "3826"
      ]
     },
     "execution_count": 11,
     "metadata": {},
     "output_type": "execute_result"
    }
   ],
   "source": [
    "df.duplicated().sum()"
   ]
  },
  {
   "cell_type": "markdown",
   "metadata": {
    "id": "Ot25h6XR_Zct"
   },
   "source": [
    "Lets delete duplicates."
   ]
  },
  {
   "cell_type": "code",
   "execution_count": 12,
   "metadata": {
    "id": "exFHq6tt_Zct"
   },
   "outputs": [],
   "source": [
    "df = df.drop_duplicates().reset_index(drop=True)"
   ]
  },
  {
   "cell_type": "code",
   "execution_count": 13,
   "metadata": {
    "id": "-8PuNWQ0_Zct"
   },
   "outputs": [
    {
     "data": {
      "text/plain": [
       "0"
      ]
     },
     "execution_count": 13,
     "metadata": {},
     "output_type": "execute_result"
    }
   ],
   "source": [
    "df.duplicated().sum()"
   ]
  },
  {
   "cell_type": "markdown",
   "metadata": {
    "id": "QlFBsxAr_Zct"
   },
   "source": [
    "I have to check column genre, because it can consider duplicates. For example rap may be hip-hop, Rap, raP etc."
   ]
  },
  {
   "cell_type": "code",
   "execution_count": 14,
   "metadata": {
    "id": "JIUcqzZN_Zct"
   },
   "outputs": [
    {
     "data": {
      "text/plain": [
       "array(['acid', 'acoustic', 'action', 'adult', 'africa', 'afrikaans',\n",
       "       'alternative', 'alternativepunk', 'ambient', 'americana',\n",
       "       'animated', 'anime', 'arabesk', 'arabic', 'arena',\n",
       "       'argentinetango', 'art', 'audiobook', 'author', 'avantgarde',\n",
       "       'axé', 'baile', 'balkan', 'beats', 'bigroom', 'black', 'bluegrass',\n",
       "       'blues', 'bollywood', 'bossa', 'brazilian', 'breakbeat', 'breaks',\n",
       "       'broadway', 'cantautori', 'cantopop', 'canzone', 'caribbean',\n",
       "       'caucasian', 'celtic', 'chamber', 'chanson', 'children', 'chill',\n",
       "       'chinese', 'choral', 'christian', 'christmas', 'classical',\n",
       "       'classicmetal', 'club', 'colombian', 'comedy', 'conjazz',\n",
       "       'contemporary', 'country', 'cuban', 'dance', 'dancehall',\n",
       "       'dancepop', 'dark', 'death', 'deep', 'deutschrock', 'deutschspr',\n",
       "       'dirty', 'disco', 'dnb', 'documentary', 'downbeat', 'downtempo',\n",
       "       'drum', 'dub', 'dubstep', 'eastern', 'easy', 'electronic',\n",
       "       'electropop', 'emo', 'entehno', 'epicmetal', 'estrada', 'ethnic',\n",
       "       'eurofolk', 'european', 'experimental', 'extrememetal', 'fado',\n",
       "       'fairytail', 'film', 'fitness', 'flamenco', 'folk', 'folklore',\n",
       "       'folkmetal', 'folkrock', 'folktronica', 'forró', 'frankreich',\n",
       "       'französisch', 'french', 'funk', 'future', 'gangsta', 'garage',\n",
       "       'german', 'ghazal', 'gitarre', 'glitch', 'gospel', 'gothic',\n",
       "       'grime', 'grunge', 'gypsy', 'handsup', \"hard'n'heavy\", 'hardcore',\n",
       "       'hardstyle', 'hardtechno', 'hip', 'hip-hop', 'hiphop',\n",
       "       'historisch', 'holiday', 'hop', 'horror', 'house', 'hymn', 'idm',\n",
       "       'independent', 'indian', 'indie', 'indipop', 'industrial',\n",
       "       'inspirational', 'instrumental', 'international', 'irish', 'jam',\n",
       "       'japanese', 'jazz', 'jewish', 'jpop', 'jungle', 'k-pop',\n",
       "       'karadeniz', 'karaoke', 'kayokyoku', 'korean', 'laiko', 'latin',\n",
       "       'latino', 'leftfield', 'local', 'lounge', 'loungeelectronic',\n",
       "       'lovers', 'malaysian', 'mandopop', 'marschmusik', 'meditative',\n",
       "       'mediterranean', 'melodic', 'metal', 'metalcore', 'mexican',\n",
       "       'middle', 'minimal', 'miscellaneous', 'modern', 'mood', 'mpb',\n",
       "       'muslim', 'native', 'neoklassik', 'neue', 'new', 'newage',\n",
       "       'newwave', 'nu', 'nujazz', 'numetal', 'oceania', 'old', 'opera',\n",
       "       'orchestral', 'other', 'piano', 'podcasts', 'pop', 'popdance',\n",
       "       'popelectronic', 'popeurodance', 'poprussian', 'post',\n",
       "       'posthardcore', 'postrock', 'power', 'progmetal', 'progressive',\n",
       "       'psychedelic', 'punjabi', 'punk', 'quebecois', 'ragga', 'ram',\n",
       "       'rancheras', 'rap', 'rave', 'reggae', 'reggaeton', 'regional',\n",
       "       'relax', 'religious', 'retro', 'rhythm', 'rnb', 'rnr', 'rock',\n",
       "       'rockabilly', 'rockalternative', 'rockindie', 'rockother',\n",
       "       'romance', 'roots', 'ruspop', 'rusrap', 'rusrock', 'russian',\n",
       "       'salsa', 'samba', 'scenic', 'schlager', 'self', 'sertanejo',\n",
       "       'shanson', 'shoegazing', 'showtunes', 'singer', 'ska', 'skarock',\n",
       "       'slow', 'smooth', 'soft', 'soul', 'soulful', 'sound', 'soundtrack',\n",
       "       'southern', 'specialty', 'speech', 'spiritual', 'sport',\n",
       "       'stonerrock', 'surf', 'swing', 'synthpop', 'synthrock',\n",
       "       'sängerportrait', 'tango', 'tanzorchester', 'taraftar', 'tatar',\n",
       "       'tech', 'techno', 'teen', 'thrash', 'top', 'traditional',\n",
       "       'tradjazz', 'trance', 'tribal', 'trip', 'triphop', 'tropical',\n",
       "       'türk', 'türkçe', 'ukrrock', 'unknown', 'urban', 'uzbek',\n",
       "       'variété', 'vi', 'videogame', 'vocal', 'western', 'world',\n",
       "       'worldbeat', 'ïîï', 'электроника'], dtype=object)"
      ]
     },
     "metadata": {},
     "output_type": "display_data"
    }
   ],
   "source": [
    "unique_genre = df['genre']\n",
    "sort_genre = unique_genre.sort_values()\n",
    "sort_genre = sort_genre.unique()\n",
    "display(sort_genre)\n",
    "\n"
   ]
  },
  {
   "cell_type": "code",
   "execution_count": 15,
   "metadata": {
    "id": "ErNDkmns_Zct"
   },
   "outputs": [],
   "source": [
    "def replace_wrong_genres(wrong_genres, correct_genre):\n",
    "    for wrong_genre in wrong_genres:\n",
    "        df['genre'] = df['genre'].replace(wrong_genre, correct_genre)"
   ]
  },
  {
   "cell_type": "code",
   "execution_count": 16,
   "metadata": {
    "id": "YN5i2hpmSo09"
   },
   "outputs": [],
   "source": [
    "wrong_name = ['hip', 'hop', 'hip-hop']\n",
    "correct_name = 'hiphop'\n",
    "replace_wrong_genres(wrong_name,correct_name)"
   ]
  },
  {
   "cell_type": "code",
   "execution_count": 17,
   "metadata": {
    "id": "wvixALnFG15m"
   },
   "outputs": [
    {
     "name": "stdout",
     "output_type": "stream",
     "text": [
      "['acid' 'acoustic' 'action' 'adult' 'africa' 'afrikaans' 'alternative'\n",
      " 'alternativepunk' 'ambient' 'americana' 'animated' 'anime' 'arabesk'\n",
      " 'arabic' 'arena' 'argentinetango' 'art' 'audiobook' 'author' 'avantgarde'\n",
      " 'axé' 'baile' 'balkan' 'beats' 'bigroom' 'black' 'bluegrass' 'blues'\n",
      " 'bollywood' 'bossa' 'brazilian' 'breakbeat' 'breaks' 'broadway'\n",
      " 'cantautori' 'cantopop' 'canzone' 'caribbean' 'caucasian' 'celtic'\n",
      " 'chamber' 'chanson' 'children' 'chill' 'chinese' 'choral' 'christian'\n",
      " 'christmas' 'classical' 'classicmetal' 'club' 'colombian' 'comedy'\n",
      " 'conjazz' 'contemporary' 'country' 'cuban' 'dance' 'dancehall' 'dancepop'\n",
      " 'dark' 'death' 'deep' 'deutschrock' 'deutschspr' 'dirty' 'disco' 'dnb'\n",
      " 'documentary' 'downbeat' 'downtempo' 'drum' 'dub' 'dubstep' 'eastern'\n",
      " 'easy' 'electronic' 'electropop' 'emo' 'entehno' 'epicmetal' 'estrada'\n",
      " 'ethnic' 'eurofolk' 'european' 'experimental' 'extrememetal' 'fado'\n",
      " 'fairytail' 'film' 'fitness' 'flamenco' 'folk' 'folklore' 'folkmetal'\n",
      " 'folkrock' 'folktronica' 'forró' 'frankreich' 'französisch' 'french'\n",
      " 'funk' 'future' 'gangsta' 'garage' 'german' 'ghazal' 'gitarre' 'glitch'\n",
      " 'gospel' 'gothic' 'grime' 'grunge' 'gypsy' 'handsup' \"hard'n'heavy\"\n",
      " 'hardcore' 'hardstyle' 'hardtechno' 'hiphop' 'historisch' 'holiday'\n",
      " 'horror' 'house' 'hymn' 'idm' 'independent' 'indian' 'indie' 'indipop'\n",
      " 'industrial' 'inspirational' 'instrumental' 'international' 'irish' 'jam'\n",
      " 'japanese' 'jazz' 'jewish' 'jpop' 'jungle' 'k-pop' 'karadeniz' 'karaoke'\n",
      " 'kayokyoku' 'korean' 'laiko' 'latin' 'latino' 'leftfield' 'local'\n",
      " 'lounge' 'loungeelectronic' 'lovers' 'malaysian' 'mandopop' 'marschmusik'\n",
      " 'meditative' 'mediterranean' 'melodic' 'metal' 'metalcore' 'mexican'\n",
      " 'middle' 'minimal' 'miscellaneous' 'modern' 'mood' 'mpb' 'muslim'\n",
      " 'native' 'neoklassik' 'neue' 'new' 'newage' 'newwave' 'nu' 'nujazz'\n",
      " 'numetal' 'oceania' 'old' 'opera' 'orchestral' 'other' 'piano' 'podcasts'\n",
      " 'pop' 'popdance' 'popelectronic' 'popeurodance' 'poprussian' 'post'\n",
      " 'posthardcore' 'postrock' 'power' 'progmetal' 'progressive' 'psychedelic'\n",
      " 'punjabi' 'punk' 'quebecois' 'ragga' 'ram' 'rancheras' 'rap' 'rave'\n",
      " 'reggae' 'reggaeton' 'regional' 'relax' 'religious' 'retro' 'rhythm'\n",
      " 'rnb' 'rnr' 'rock' 'rockabilly' 'rockalternative' 'rockindie' 'rockother'\n",
      " 'romance' 'roots' 'ruspop' 'rusrap' 'rusrock' 'russian' 'salsa' 'samba'\n",
      " 'scenic' 'schlager' 'self' 'sertanejo' 'shanson' 'shoegazing' 'showtunes'\n",
      " 'singer' 'ska' 'skarock' 'slow' 'smooth' 'soft' 'soul' 'soulful' 'sound'\n",
      " 'soundtrack' 'southern' 'specialty' 'speech' 'spiritual' 'sport'\n",
      " 'stonerrock' 'surf' 'swing' 'synthpop' 'synthrock' 'sängerportrait'\n",
      " 'tango' 'tanzorchester' 'taraftar' 'tatar' 'tech' 'techno' 'teen'\n",
      " 'thrash' 'top' 'traditional' 'tradjazz' 'trance' 'tribal' 'trip'\n",
      " 'triphop' 'tropical' 'türk' 'türkçe' 'ukrrock' 'unknown' 'urban' 'uzbek'\n",
      " 'variété' 'vi' 'videogame' 'vocal' 'western' 'world' 'worldbeat' 'ïîï'\n",
      " 'электроника']\n"
     ]
    }
   ],
   "source": [
    "print(df['genre'].sort_values().unique())"
   ]
  },
  {
   "cell_type": "markdown",
   "metadata": {
    "id": "jz6a9-7HQUDd"
   },
   "source": [
    "**Conclusion**\n",
    "\n",
    "I solve 3 problem with data:\n",
    "\n",
    "- bad naming,\n",
    "- missing data,\n",
    "- duplicates.\n"
   ]
  },
  {
   "cell_type": "markdown",
   "metadata": {
    "id": "WttZHXH0SqKk"
   },
   "source": [
    "## Hypotheses"
   ]
  },
  {
   "cell_type": "markdown",
   "metadata": {
    "id": "Im936VVi_Zcu"
   },
   "source": [
    "### Different behavior of users from Moscow and SPB"
   ]
  },
  {
   "cell_type": "markdown",
   "metadata": {
    "id": "nwt_MuaL_Zcu"
   },
   "source": [
    "\n",
    "First hypothes: in different citys people listen differnt music.\n",
    "* So I need to seporate users by citys\n",
    "* Compare how many tracks people listen at mondey, wednsday and friday. \n"
   ]
  },
  {
   "cell_type": "code",
   "execution_count": 18,
   "metadata": {
    "id": "0_Qs96oh_Zcu"
   },
   "outputs": [
    {
     "data": {
      "text/plain": [
       "city\n",
       "Moscow              42741\n",
       "Saint-Petersburg    18512\n",
       "Name: time, dtype: int64"
      ]
     },
     "metadata": {},
     "output_type": "display_data"
    }
   ],
   "source": [
    "display(df.groupby('city')['time'].count())"
   ]
  },
  {
   "cell_type": "markdown",
   "metadata": {
    "id": "dzli3w8o_Zcu"
   },
   "source": [
    "Looks like in Moscow people more likes music. But it is not tru becouse in Moscow lives more people. \n",
    "\n"
   ]
  },
  {
   "cell_type": "code",
   "execution_count": 19,
   "metadata": {
    "id": "uZMKjiJz_Zcu"
   },
   "outputs": [
    {
     "data": {
      "text/plain": [
       "day\n",
       "Friday       21840\n",
       "Monday       21354\n",
       "Wednesday    18059\n",
       "Name: time, dtype: int64"
      ]
     },
     "execution_count": 19,
     "metadata": {},
     "output_type": "execute_result"
    }
   ],
   "source": [
    "df.groupby('day')['time'].count()\n"
   ]
  },
  {
   "cell_type": "markdown",
   "metadata": {
    "id": "cC2tNrlL_Zcu"
   },
   "source": [
    "We can see that at Wednssday not so many users listen to music."
   ]
  },
  {
   "cell_type": "code",
   "execution_count": 20,
   "metadata": {
    "id": "Nz3GdQB1_Zcu"
   },
   "outputs": [],
   "source": [
    "def number_tracks(day, city):\n",
    "    track_list = df[df['day'] == day]\n",
    "    track_list = track_list[track_list['city'] == city]\n",
    "    track_list_count = track_list['user_id'].count()\n",
    "    return track_list_count \n"
   ]
  },
  {
   "cell_type": "code",
   "execution_count": 21,
   "metadata": {},
   "outputs": [
    {
     "data": {
      "text/plain": [
       "15740"
      ]
     },
     "execution_count": 21,
     "metadata": {},
     "output_type": "execute_result"
    }
   ],
   "source": [
    "number_tracks('Monday','Moscow')# Moscow at Mondey"
   ]
  },
  {
   "cell_type": "code",
   "execution_count": 22,
   "metadata": {
    "id": "hq_ncZ5T_Zcu"
   },
   "outputs": [
    {
     "data": {
      "text/plain": [
       "5614"
      ]
     },
     "execution_count": 22,
     "metadata": {},
     "output_type": "execute_result"
    }
   ],
   "source": [
    "number_tracks('Monday','Saint-Petersburg')# SPB at Mondey"
   ]
  },
  {
   "cell_type": "code",
   "execution_count": 23,
   "metadata": {
    "id": "_NTy2VPU_Zcu"
   },
   "outputs": [
    {
     "data": {
      "text/plain": [
       "11056"
      ]
     },
     "execution_count": 23,
     "metadata": {},
     "output_type": "execute_result"
    }
   ],
   "source": [
    "number_tracks('Wednesday', 'Moscow')# Moscow at Wednsday"
   ]
  },
  {
   "cell_type": "code",
   "execution_count": 24,
   "metadata": {
    "id": "j2y3TAwo_Zcu"
   },
   "outputs": [
    {
     "data": {
      "text/plain": [
       "7003"
      ]
     },
     "execution_count": 24,
     "metadata": {},
     "output_type": "execute_result"
    }
   ],
   "source": [
    "number_tracks('Wednesday', 'Saint-Petersburg')# SPB at Wednsday"
   ]
  },
  {
   "cell_type": "code",
   "execution_count": 25,
   "metadata": {
    "id": "vYDw5u_K_Zcu"
   },
   "outputs": [
    {
     "data": {
      "text/plain": [
       "15945"
      ]
     },
     "execution_count": 25,
     "metadata": {},
     "output_type": "execute_result"
    }
   ],
   "source": [
    "number_tracks('Friday', 'Moscow')# Moscow at Friday"
   ]
  },
  {
   "cell_type": "code",
   "execution_count": 26,
   "metadata": {
    "id": "8_yzFtW3_Zcu"
   },
   "outputs": [
    {
     "data": {
      "text/plain": [
       "5895"
      ]
     },
     "execution_count": 26,
     "metadata": {},
     "output_type": "execute_result"
    }
   ],
   "source": [
    "number_tracks('Friday', 'Saint-Petersburg')# SPB at Friday"
   ]
  },
  {
   "cell_type": "code",
   "execution_count": 27,
   "metadata": {
    "id": "APAcLpOr_Zcu"
   },
   "outputs": [
    {
     "data": {
      "text/html": [
       "<div>\n",
       "<style scoped>\n",
       "    .dataframe tbody tr th:only-of-type {\n",
       "        vertical-align: middle;\n",
       "    }\n",
       "\n",
       "    .dataframe tbody tr th {\n",
       "        vertical-align: top;\n",
       "    }\n",
       "\n",
       "    .dataframe thead th {\n",
       "        text-align: right;\n",
       "    }\n",
       "</style>\n",
       "<table border=\"1\" class=\"dataframe\">\n",
       "  <thead>\n",
       "    <tr style=\"text-align: right;\">\n",
       "      <th></th>\n",
       "      <th>city</th>\n",
       "      <th>monday</th>\n",
       "      <th>wednesday</th>\n",
       "      <th>friday</th>\n",
       "    </tr>\n",
       "  </thead>\n",
       "  <tbody>\n",
       "    <tr>\n",
       "      <th>0</th>\n",
       "      <td>Moscow</td>\n",
       "      <td>15740</td>\n",
       "      <td>11056</td>\n",
       "      <td>15945</td>\n",
       "    </tr>\n",
       "    <tr>\n",
       "      <th>1</th>\n",
       "      <td>Saint-Petersburg</td>\n",
       "      <td>5614</td>\n",
       "      <td>7003</td>\n",
       "      <td>5895</td>\n",
       "    </tr>\n",
       "  </tbody>\n",
       "</table>\n",
       "</div>"
      ],
      "text/plain": [
       "               city  monday  wednesday  friday\n",
       "0            Moscow   15740      11056   15945\n",
       "1  Saint-Petersburg    5614       7003    5895"
      ]
     },
     "metadata": {},
     "output_type": "display_data"
    }
   ],
   "source": [
    "data = [['Moscow', 15740, 11056, 15945 ],['Saint-Petersburg', 5614, 7003, 5895 ]]\n",
    "columns = ['city', 'monday', 'wednesday', 'friday']\n",
    "display(pd.DataFrame(data=data, columns=columns))\n",
    "# Таблица с результатами"
   ]
  },
  {
   "cell_type": "markdown",
   "metadata": {
    "id": "-EgPIHYu_Zcu"
   },
   "source": [
    "**Conclusions**\n",
    "\n",
    "\n",
    "\n",
    "-  At Moscow more users listen music at Monday and Friday.\n",
    "-  At SPB more people listen music at Wednsday.\n",
    "\n",
    "So first hypothesis was right. In different cities users has different behavior."
   ]
  },
  {
   "cell_type": "markdown",
   "metadata": {
    "id": "atZAxtq4_Zcu"
   },
   "source": [
    "### Music at Monday and Friday"
   ]
  },
  {
   "cell_type": "markdown",
   "metadata": {
    "id": "eXrQqXFH_Zcu"
   },
   "source": [
    "Second hypothes: people in Moscow and SPB listen different genres of music."
   ]
  },
  {
   "cell_type": "code",
   "execution_count": 28,
   "metadata": {
    "id": "qeaFfM_P_Zcu"
   },
   "outputs": [],
   "source": [
    "moscow_general = df[df['city'] == 'Moscow']\n",
    "\n"
   ]
  },
  {
   "cell_type": "code",
   "execution_count": 29,
   "metadata": {
    "id": "ORaVRKto_Zcu"
   },
   "outputs": [],
   "source": [
    "spb_general = df[df['city'] == 'Saint-Petersburg']\n"
   ]
  },
  {
   "cell_type": "code",
   "execution_count": 30,
   "metadata": {
    "id": "laJT9BYl_Zcu"
   },
   "outputs": [],
   "source": [
    "def genre_weekday(df, day, time1, time2):\n",
    "    genre_list =  df[(df['day'] == day) & (df['time']>time1) & (time2>df['time'])]\n",
    "    genre_list_sorted = genre_list.groupby('genre')['genre'].count().sort_values(ascending = False).head(10) \n",
    "    return genre_list_sorted\n"
   ]
  },
  {
   "cell_type": "markdown",
   "metadata": {
    "id": "la2s2_PF_Zcu"
   },
   "source": [
    "\n",
    "Compare of genres at Monday morning and Friday evening:"
   ]
  },
  {
   "cell_type": "code",
   "execution_count": 31,
   "metadata": {
    "id": "yz7itPUQ_Zcu"
   },
   "outputs": [
    {
     "data": {
      "text/plain": [
       "genre\n",
       "pop            781\n",
       "dance          549\n",
       "electronic     480\n",
       "rock           474\n",
       "hiphop         286\n",
       "ruspop         186\n",
       "world          181\n",
       "rusrap         175\n",
       "alternative    164\n",
       "unknown        161\n",
       "Name: genre, dtype: int64"
      ]
     },
     "execution_count": 31,
     "metadata": {},
     "output_type": "execute_result"
    }
   ],
   "source": [
    "genre_weekday(moscow_general, 'Monday', '07:00:00', '11:00:00')"
   ]
  },
  {
   "cell_type": "code",
   "execution_count": 32,
   "metadata": {
    "id": "kwUcHPdy_Zcu"
   },
   "outputs": [
    {
     "data": {
      "text/plain": [
       "genre\n",
       "pop            218\n",
       "dance          182\n",
       "rock           162\n",
       "electronic     147\n",
       "hiphop          80\n",
       "ruspop          64\n",
       "alternative     58\n",
       "rusrap          55\n",
       "jazz            44\n",
       "classical       40\n",
       "Name: genre, dtype: int64"
      ]
     },
     "execution_count": 32,
     "metadata": {},
     "output_type": "execute_result"
    }
   ],
   "source": [
    "genre_weekday(spb_general, 'Monday', '07:00:00', '11:00:00')"
   ]
  },
  {
   "cell_type": "code",
   "execution_count": 33,
   "metadata": {
    "id": "EzXVRE1o_Zcu"
   },
   "outputs": [
    {
     "data": {
      "text/plain": [
       "genre\n",
       "pop            713\n",
       "rock           517\n",
       "dance          495\n",
       "electronic     482\n",
       "hiphop         273\n",
       "world          208\n",
       "ruspop         170\n",
       "alternative    163\n",
       "classical      163\n",
       "rusrap         142\n",
       "Name: genre, dtype: int64"
      ]
     },
     "execution_count": 33,
     "metadata": {},
     "output_type": "execute_result"
    }
   ],
   "source": [
    "genre_weekday(moscow_general, 'Friday', '17:00:00', '23:00:00')"
   ]
  },
  {
   "cell_type": "code",
   "execution_count": 34,
   "metadata": {
    "id": "JZaEKu5v_Zcu"
   },
   "outputs": [
    {
     "data": {
      "text/plain": [
       "genre\n",
       "pop            256\n",
       "electronic     216\n",
       "rock           216\n",
       "dance          210\n",
       "hiphop          97\n",
       "alternative     63\n",
       "jazz            61\n",
       "classical       60\n",
       "rusrap          59\n",
       "world           54\n",
       "Name: genre, dtype: int64"
      ]
     },
     "execution_count": 34,
     "metadata": {},
     "output_type": "execute_result"
    }
   ],
   "source": [
    "genre_weekday(spb_general, 'Friday', '17:00:00', '23:00:00')"
   ]
  },
  {
   "cell_type": "markdown",
   "metadata": {
    "id": "wrCe4MNX_Zcu"
   },
   "source": [
    "**Conclusions**\n",
    "\n",
    "\n",
    "Second hypothes as wrong. In general people listen same music in both citys. Except that at SPB prefer Jaz, and at Moscow Pop music. But TOP-10 genres looks the same."
   ]
  },
  {
   "cell_type": "markdown",
   "metadata": {
    "id": "JolODAqr_Zcu"
   },
   "source": [
    "### Genres at Moscow and SPB\n",
    "\n",
    "Thrid hypothes: at SPB people prefer RAP and at Moscow people prefer POP-music "
   ]
  },
  {
   "cell_type": "code",
   "execution_count": 35,
   "metadata": {
    "id": "r19lIPke_Zcu"
   },
   "outputs": [],
   "source": [
    "moscow_genres = moscow_general.groupby('genre')['genre'].count().sort_values(ascending = False)\n"
   ]
  },
  {
   "cell_type": "code",
   "execution_count": 36,
   "metadata": {
    "id": "WhCSooF8_Zcv"
   },
   "outputs": [
    {
     "data": {
      "text/plain": [
       "genre\n",
       "pop            5892\n",
       "dance          4435\n",
       "rock           3965\n",
       "electronic     3786\n",
       "hiphop         2096\n",
       "classical      1616\n",
       "world          1432\n",
       "alternative    1379\n",
       "ruspop         1372\n",
       "rusrap         1161\n",
       "Name: genre, dtype: int64"
      ]
     },
     "metadata": {},
     "output_type": "display_data"
    }
   ],
   "source": [
    "display(moscow_genres.head(10))# top 10 rows moscow_genres"
   ]
  },
  {
   "cell_type": "code",
   "execution_count": 37,
   "metadata": {
    "id": "gluLIpE7_Zcv"
   },
   "outputs": [],
   "source": [
    "spb_genres = spb_general.groupby('genre')['genre'].count().sort_values(ascending = False)"
   ]
  },
  {
   "cell_type": "code",
   "execution_count": 38,
   "metadata": {
    "id": "uaGJHjVU_Zcv"
   },
   "outputs": [
    {
     "data": {
      "text/plain": [
       "genre\n",
       "pop            2431\n",
       "dance          1932\n",
       "rock           1879\n",
       "electronic     1736\n",
       "hiphop          960\n",
       "alternative     649\n",
       "classical       646\n",
       "rusrap          564\n",
       "ruspop          538\n",
       "world           515\n",
       "Name: genre, dtype: int64"
      ]
     },
     "metadata": {},
     "output_type": "display_data"
    }
   ],
   "source": [
    "display(spb_genres.head(10))# top 10 rows spb_genres"
   ]
  },
  {
   "cell_type": "markdown",
   "metadata": {
    "id": "RY51YJYu_Zcv"
   },
   "source": [
    "**Conclusions**"
   ]
  },
  {
   "cell_type": "markdown",
   "metadata": {
    "id": "nVhnJEm__Zcv"
   },
   "source": [
    "Hypothes is right partly:\n",
    "*  Pop-music is most popular genre at Moscow. Also at moscow people likes genre - russian pop-music (which the same)\n",
    "*  RAP music is popular at SPB and Moscow.\n"
   ]
  },
  {
   "cell_type": "markdown",
   "metadata": {
    "id": "ykKQ0N65_Zcv"
   },
   "source": [
    "## Research conclusions"
   ]
  },
  {
   "cell_type": "markdown",
   "metadata": {
    "id": "tjUwbHb3_Zcv"
   },
   "source": [
    "\n",
    "\n",
    "1. Users activites depends of weekday. \n",
    "\n",
    "\n",
    "\n",
    "2. People listen the same music during the week.\n",
    "\n",
    "\n",
    "3. People from Moscow and SPB listen the same genres.\n",
    "\n"
   ]
  },
  {
   "cell_type": "code",
   "execution_count": null,
   "metadata": {},
   "outputs": [],
   "source": []
  }
 ],
 "metadata": {
  "ExecuteTimeLog": [
   {
    "duration": 43,
    "start_time": "2022-04-10T14:13:00.007Z"
   },
   {
    "duration": 5,
    "start_time": "2022-04-10T14:13:13.661Z"
   },
   {
    "duration": 5,
    "start_time": "2022-04-10T14:22:15.209Z"
   },
   {
    "duration": 444,
    "start_time": "2022-04-11T17:15:18.156Z"
   },
   {
    "duration": 157,
    "start_time": "2022-04-11T17:15:18.602Z"
   },
   {
    "duration": 2,
    "start_time": "2022-04-11T17:15:18.761Z"
   },
   {
    "duration": 2,
    "start_time": "2022-04-11T17:15:18.773Z"
   },
   {
    "duration": 5,
    "start_time": "2022-04-11T17:15:18.777Z"
   },
   {
    "duration": 6,
    "start_time": "2022-04-11T17:15:18.783Z"
   },
   {
    "duration": 4,
    "start_time": "2022-04-11T17:15:18.791Z"
   },
   {
    "duration": 5,
    "start_time": "2022-04-11T17:15:18.797Z"
   },
   {
    "duration": 5,
    "start_time": "2022-04-11T17:15:18.803Z"
   },
   {
    "duration": 3,
    "start_time": "2022-04-11T17:15:18.811Z"
   },
   {
    "duration": 5,
    "start_time": "2022-04-11T17:15:18.815Z"
   },
   {
    "duration": 4,
    "start_time": "2022-04-11T17:15:18.821Z"
   },
   {
    "duration": 5,
    "start_time": "2022-04-11T17:15:18.827Z"
   },
   {
    "duration": 5,
    "start_time": "2022-04-11T17:15:18.833Z"
   },
   {
    "duration": 5,
    "start_time": "2022-04-11T17:15:18.840Z"
   },
   {
    "duration": 3,
    "start_time": "2022-04-11T17:15:18.874Z"
   },
   {
    "duration": 5,
    "start_time": "2022-04-11T17:15:18.878Z"
   },
   {
    "duration": 5,
    "start_time": "2022-04-11T17:15:18.884Z"
   },
   {
    "duration": 10,
    "start_time": "2022-04-11T17:15:18.890Z"
   },
   {
    "duration": 5,
    "start_time": "2022-04-11T17:15:18.901Z"
   },
   {
    "duration": 7,
    "start_time": "2022-04-11T17:15:18.908Z"
   },
   {
    "duration": 6,
    "start_time": "2022-04-11T17:15:18.916Z"
   },
   {
    "duration": 5,
    "start_time": "2022-04-11T17:15:18.924Z"
   },
   {
    "duration": 4,
    "start_time": "2022-04-11T17:15:18.931Z"
   },
   {
    "duration": 5,
    "start_time": "2022-04-11T17:15:18.937Z"
   },
   {
    "duration": 8,
    "start_time": "2022-04-11T17:15:18.944Z"
   },
   {
    "duration": 19,
    "start_time": "2022-04-11T17:15:18.954Z"
   },
   {
    "duration": 4,
    "start_time": "2022-04-11T17:15:18.977Z"
   },
   {
    "duration": 5,
    "start_time": "2022-04-11T17:15:18.982Z"
   },
   {
    "duration": 5,
    "start_time": "2022-04-11T17:15:18.989Z"
   },
   {
    "duration": 16,
    "start_time": "2022-04-11T17:15:18.995Z"
   },
   {
    "duration": 5,
    "start_time": "2022-04-11T17:15:19.013Z"
   },
   {
    "duration": 8,
    "start_time": "2022-04-11T17:15:19.020Z"
   },
   {
    "duration": 11,
    "start_time": "2022-04-11T17:15:19.030Z"
   },
   {
    "duration": 4,
    "start_time": "2022-04-11T17:15:19.043Z"
   },
   {
    "duration": 5,
    "start_time": "2022-04-11T17:15:19.049Z"
   },
   {
    "duration": 5,
    "start_time": "2022-04-11T17:15:19.056Z"
   },
   {
    "duration": 2,
    "start_time": "2022-04-11T17:15:19.073Z"
   },
   {
    "duration": 9,
    "start_time": "2022-04-11T17:16:00.345Z"
   },
   {
    "duration": 13,
    "start_time": "2022-04-11T17:16:26.430Z"
   },
   {
    "duration": 3,
    "start_time": "2022-04-11T17:24:22.006Z"
   },
   {
    "duration": 175,
    "start_time": "2022-04-11T17:24:26.722Z"
   },
   {
    "duration": 124,
    "start_time": "2022-04-11T17:24:38.866Z"
   },
   {
    "duration": 153,
    "start_time": "2022-04-11T17:25:02.226Z"
   },
   {
    "duration": 125,
    "start_time": "2022-04-11T17:25:36.760Z"
   },
   {
    "duration": 62,
    "start_time": "2022-04-11T17:25:47.825Z"
   },
   {
    "duration": 12,
    "start_time": "2022-04-11T17:26:06.526Z"
   },
   {
    "duration": 14,
    "start_time": "2022-04-11T17:26:11.290Z"
   },
   {
    "duration": 8,
    "start_time": "2022-04-11T17:26:37.492Z"
   },
   {
    "duration": 5,
    "start_time": "2022-04-11T17:26:51.159Z"
   },
   {
    "duration": 10,
    "start_time": "2022-04-11T17:27:08.562Z"
   },
   {
    "duration": 9,
    "start_time": "2022-04-11T17:27:47.672Z"
   },
   {
    "duration": 12,
    "start_time": "2022-04-11T17:27:58.334Z"
   },
   {
    "duration": 26,
    "start_time": "2022-04-11T17:29:21.163Z"
   },
   {
    "duration": 24,
    "start_time": "2022-04-11T17:29:30.566Z"
   },
   {
    "duration": 24,
    "start_time": "2022-04-11T17:29:39.460Z"
   },
   {
    "duration": 26,
    "start_time": "2022-04-11T17:35:20.401Z"
   },
   {
    "duration": 18,
    "start_time": "2022-04-11T17:35:28.557Z"
   },
   {
    "duration": 24,
    "start_time": "2022-04-11T17:35:32.313Z"
   },
   {
    "duration": 7,
    "start_time": "2022-04-11T17:50:05.040Z"
   },
   {
    "duration": 66,
    "start_time": "2022-04-11T17:50:18.910Z"
   },
   {
    "duration": 84,
    "start_time": "2022-04-11T17:51:11.016Z"
   },
   {
    "duration": 62,
    "start_time": "2022-04-11T17:51:28.295Z"
   },
   {
    "duration": 78,
    "start_time": "2022-04-11T17:51:40.938Z"
   },
   {
    "duration": 59,
    "start_time": "2022-04-11T17:51:46.627Z"
   },
   {
    "duration": 67,
    "start_time": "2022-04-11T17:52:31.732Z"
   },
   {
    "duration": 55,
    "start_time": "2022-04-11T17:52:34.606Z"
   },
   {
    "duration": 7,
    "start_time": "2022-04-11T17:54:55.861Z"
   },
   {
    "duration": 8,
    "start_time": "2022-04-11T17:59:30.045Z"
   },
   {
    "duration": 2,
    "start_time": "2022-04-11T18:00:09.172Z"
   },
   {
    "duration": 7,
    "start_time": "2022-04-11T18:00:21.278Z"
   },
   {
    "duration": 4,
    "start_time": "2022-04-11T18:00:36.698Z"
   },
   {
    "duration": 4,
    "start_time": "2022-04-11T18:00:57.466Z"
   },
   {
    "duration": 35,
    "start_time": "2022-04-11T18:02:07.087Z"
   },
   {
    "duration": 34,
    "start_time": "2022-04-11T18:02:19.001Z"
   },
   {
    "duration": 38,
    "start_time": "2022-04-11T18:03:01.347Z"
   },
   {
    "duration": 38,
    "start_time": "2022-04-11T18:03:15.965Z"
   },
   {
    "duration": 3,
    "start_time": "2022-04-11T18:21:49.657Z"
   },
   {
    "duration": 10,
    "start_time": "2022-04-11T18:21:53.035Z"
   },
   {
    "duration": 120,
    "start_time": "2022-04-11T18:21:57.115Z"
   },
   {
    "duration": 112,
    "start_time": "2022-04-11T18:22:27.057Z"
   },
   {
    "duration": 120,
    "start_time": "2022-04-11T18:22:38.917Z"
   },
   {
    "duration": 125,
    "start_time": "2022-04-11T18:24:53.330Z"
   },
   {
    "duration": 131,
    "start_time": "2022-04-11T18:26:19.388Z"
   },
   {
    "duration": 8,
    "start_time": "2022-04-11T18:26:26.117Z"
   },
   {
    "duration": 1421,
    "start_time": "2022-04-11T18:26:45.003Z"
   },
   {
    "duration": 113,
    "start_time": "2022-04-11T18:28:53.365Z"
   },
   {
    "duration": 7,
    "start_time": "2022-04-11T18:29:01.254Z"
   },
   {
    "duration": 71,
    "start_time": "2022-04-11T18:31:46.188Z"
   },
   {
    "duration": 69,
    "start_time": "2022-04-12T18:36:53.528Z"
   },
   {
    "duration": 8,
    "start_time": "2022-04-12T18:38:00.542Z"
   },
   {
    "duration": 501,
    "start_time": "2022-04-12T18:38:12.576Z"
   },
   {
    "duration": 185,
    "start_time": "2022-04-12T18:38:15.476Z"
   },
   {
    "duration": 26,
    "start_time": "2022-04-12T18:38:19.102Z"
   },
   {
    "duration": 13,
    "start_time": "2022-04-12T18:38:23.256Z"
   },
   {
    "duration": 19,
    "start_time": "2022-04-12T18:41:36.030Z"
   },
   {
    "duration": 18,
    "start_time": "2022-04-12T18:41:52.856Z"
   },
   {
    "duration": 17,
    "start_time": "2022-04-12T18:43:07.925Z"
   },
   {
    "duration": 5,
    "start_time": "2022-04-12T18:52:17.695Z"
   },
   {
    "duration": 40,
    "start_time": "2022-04-12T18:54:14.525Z"
   },
   {
    "duration": 4,
    "start_time": "2022-04-12T18:58:37.137Z"
   },
   {
    "duration": 11,
    "start_time": "2022-04-12T18:58:42.825Z"
   },
   {
    "duration": 9,
    "start_time": "2022-04-12T18:59:27.643Z"
   },
   {
    "duration": 9,
    "start_time": "2022-04-12T18:59:55.868Z"
   },
   {
    "duration": 458,
    "start_time": "2022-04-20T10:08:30.810Z"
   },
   {
    "duration": 189,
    "start_time": "2022-04-20T10:08:31.270Z"
   },
   {
    "duration": 19,
    "start_time": "2022-04-20T10:08:31.461Z"
   },
   {
    "duration": 15,
    "start_time": "2022-04-20T10:08:31.482Z"
   },
   {
    "duration": 43,
    "start_time": "2022-04-20T10:08:31.499Z"
   },
   {
    "duration": 23,
    "start_time": "2022-04-20T10:08:31.544Z"
   },
   {
    "duration": 13,
    "start_time": "2022-04-20T10:08:31.569Z"
   },
   {
    "duration": 52,
    "start_time": "2022-04-20T10:08:31.583Z"
   },
   {
    "duration": 32,
    "start_time": "2022-04-20T10:08:31.636Z"
   },
   {
    "duration": 27,
    "start_time": "2022-04-20T10:08:31.670Z"
   },
   {
    "duration": 88,
    "start_time": "2022-04-20T10:08:31.699Z"
   },
   {
    "duration": 89,
    "start_time": "2022-04-20T10:08:31.788Z"
   },
   {
    "duration": 77,
    "start_time": "2022-04-20T10:08:31.879Z"
   },
   {
    "duration": 46,
    "start_time": "2022-04-20T10:08:31.959Z"
   },
   {
    "duration": 3,
    "start_time": "2022-04-20T10:08:32.007Z"
   },
   {
    "duration": 29,
    "start_time": "2022-04-20T10:08:32.012Z"
   },
   {
    "duration": 42,
    "start_time": "2022-04-20T10:08:32.042Z"
   },
   {
    "duration": 14,
    "start_time": "2022-04-20T10:08:32.086Z"
   },
   {
    "duration": 32,
    "start_time": "2022-04-20T10:08:32.102Z"
   },
   {
    "duration": 4,
    "start_time": "2022-04-20T10:08:32.136Z"
   },
   {
    "duration": 72,
    "start_time": "2022-04-20T10:08:32.142Z"
   },
   {
    "duration": 0,
    "start_time": "2022-04-20T10:08:32.216Z"
   },
   {
    "duration": 0,
    "start_time": "2022-04-20T10:08:32.217Z"
   },
   {
    "duration": 0,
    "start_time": "2022-04-20T10:08:32.219Z"
   },
   {
    "duration": 0,
    "start_time": "2022-04-20T10:08:32.220Z"
   },
   {
    "duration": 0,
    "start_time": "2022-04-20T10:08:32.221Z"
   },
   {
    "duration": 0,
    "start_time": "2022-04-20T10:08:32.222Z"
   },
   {
    "duration": 0,
    "start_time": "2022-04-20T10:08:32.234Z"
   },
   {
    "duration": 1,
    "start_time": "2022-04-20T10:08:32.235Z"
   },
   {
    "duration": 0,
    "start_time": "2022-04-20T10:08:32.237Z"
   },
   {
    "duration": 0,
    "start_time": "2022-04-20T10:08:32.239Z"
   },
   {
    "duration": 0,
    "start_time": "2022-04-20T10:08:32.240Z"
   },
   {
    "duration": 0,
    "start_time": "2022-04-20T10:08:32.241Z"
   },
   {
    "duration": 0,
    "start_time": "2022-04-20T10:08:32.242Z"
   },
   {
    "duration": 0,
    "start_time": "2022-04-20T10:08:32.244Z"
   },
   {
    "duration": 0,
    "start_time": "2022-04-20T10:08:32.245Z"
   },
   {
    "duration": 0,
    "start_time": "2022-04-20T10:08:32.246Z"
   },
   {
    "duration": 0,
    "start_time": "2022-04-20T10:08:32.248Z"
   },
   {
    "duration": 17,
    "start_time": "2022-04-20T10:10:57.567Z"
   },
   {
    "duration": 439,
    "start_time": "2022-04-20T10:16:45.533Z"
   },
   {
    "duration": 184,
    "start_time": "2022-04-20T10:16:45.974Z"
   },
   {
    "duration": 20,
    "start_time": "2022-04-20T10:16:46.160Z"
   },
   {
    "duration": 19,
    "start_time": "2022-04-20T10:16:46.182Z"
   },
   {
    "duration": 13,
    "start_time": "2022-04-20T10:16:46.203Z"
   },
   {
    "duration": 24,
    "start_time": "2022-04-20T10:16:46.218Z"
   },
   {
    "duration": 11,
    "start_time": "2022-04-20T10:16:46.244Z"
   },
   {
    "duration": 32,
    "start_time": "2022-04-20T10:16:46.257Z"
   },
   {
    "duration": 24,
    "start_time": "2022-04-20T10:16:46.291Z"
   },
   {
    "duration": 36,
    "start_time": "2022-04-20T10:16:46.317Z"
   },
   {
    "duration": 92,
    "start_time": "2022-04-20T10:16:46.355Z"
   },
   {
    "duration": 105,
    "start_time": "2022-04-20T10:16:46.449Z"
   },
   {
    "duration": 68,
    "start_time": "2022-04-20T10:16:46.556Z"
   },
   {
    "duration": 47,
    "start_time": "2022-04-20T10:16:46.636Z"
   },
   {
    "duration": 4,
    "start_time": "2022-04-20T10:16:46.685Z"
   },
   {
    "duration": 16,
    "start_time": "2022-04-20T10:16:46.690Z"
   },
   {
    "duration": 64,
    "start_time": "2022-04-20T10:16:46.708Z"
   },
   {
    "duration": 14,
    "start_time": "2022-04-20T10:16:46.774Z"
   },
   {
    "duration": 13,
    "start_time": "2022-04-20T10:16:46.790Z"
   },
   {
    "duration": 4,
    "start_time": "2022-04-20T10:16:46.805Z"
   },
   {
    "duration": 72,
    "start_time": "2022-04-20T10:16:46.834Z"
   },
   {
    "duration": 0,
    "start_time": "2022-04-20T10:16:46.908Z"
   },
   {
    "duration": 0,
    "start_time": "2022-04-20T10:16:46.909Z"
   },
   {
    "duration": 0,
    "start_time": "2022-04-20T10:16:46.911Z"
   },
   {
    "duration": 0,
    "start_time": "2022-04-20T10:16:46.912Z"
   },
   {
    "duration": 0,
    "start_time": "2022-04-20T10:16:46.933Z"
   },
   {
    "duration": 0,
    "start_time": "2022-04-20T10:16:46.935Z"
   },
   {
    "duration": 0,
    "start_time": "2022-04-20T10:16:46.936Z"
   },
   {
    "duration": 0,
    "start_time": "2022-04-20T10:16:46.937Z"
   },
   {
    "duration": 0,
    "start_time": "2022-04-20T10:16:46.938Z"
   },
   {
    "duration": 0,
    "start_time": "2022-04-20T10:16:46.940Z"
   },
   {
    "duration": 0,
    "start_time": "2022-04-20T10:16:46.941Z"
   },
   {
    "duration": 0,
    "start_time": "2022-04-20T10:16:46.942Z"
   },
   {
    "duration": 0,
    "start_time": "2022-04-20T10:16:46.943Z"
   },
   {
    "duration": 0,
    "start_time": "2022-04-20T10:16:46.944Z"
   },
   {
    "duration": 0,
    "start_time": "2022-04-20T10:16:46.945Z"
   },
   {
    "duration": 0,
    "start_time": "2022-04-20T10:16:46.946Z"
   },
   {
    "duration": 0,
    "start_time": "2022-04-20T10:16:46.947Z"
   },
   {
    "duration": 45,
    "start_time": "2022-04-24T15:23:29.697Z"
   },
   {
    "duration": 410,
    "start_time": "2022-04-24T15:23:38.728Z"
   },
   {
    "duration": 146,
    "start_time": "2022-04-24T15:23:41.678Z"
   },
   {
    "duration": 16,
    "start_time": "2022-04-24T15:23:44.363Z"
   },
   {
    "duration": 29,
    "start_time": "2022-04-24T15:23:48.029Z"
   },
   {
    "duration": 3,
    "start_time": "2022-04-24T16:22:58.162Z"
   },
   {
    "duration": 11,
    "start_time": "2022-04-24T16:22:59.542Z"
   },
   {
    "duration": 49,
    "start_time": "2022-04-24T16:23:00.693Z"
   },
   {
    "duration": 32,
    "start_time": "2022-04-24T16:23:07.093Z"
   },
   {
    "duration": 10,
    "start_time": "2022-04-24T16:23:28.754Z"
   },
   {
    "duration": 10,
    "start_time": "2022-04-24T16:23:38.006Z"
   },
   {
    "duration": 3,
    "start_time": "2022-04-24T16:30:13.079Z"
   },
   {
    "duration": 177,
    "start_time": "2022-04-24T16:30:14.849Z"
   },
   {
    "duration": 12,
    "start_time": "2022-04-24T16:30:16.877Z"
   },
   {
    "duration": 31,
    "start_time": "2022-04-24T16:30:19.282Z"
   },
   {
    "duration": 29,
    "start_time": "2022-04-24T16:30:48.793Z"
   },
   {
    "duration": 4,
    "start_time": "2022-04-24T16:31:27.477Z"
   },
   {
    "duration": 12,
    "start_time": "2022-04-24T16:31:28.040Z"
   },
   {
    "duration": 4,
    "start_time": "2022-04-24T16:31:28.826Z"
   },
   {
    "duration": 24,
    "start_time": "2022-04-24T16:31:30.595Z"
   },
   {
    "duration": 19,
    "start_time": "2022-04-24T16:31:32.277Z"
   },
   {
    "duration": 24,
    "start_time": "2022-04-24T16:31:33.613Z"
   },
   {
    "duration": 62,
    "start_time": "2022-04-24T16:31:34.645Z"
   },
   {
    "duration": 71,
    "start_time": "2022-04-24T16:31:36.868Z"
   },
   {
    "duration": 57,
    "start_time": "2022-04-24T16:31:38.324Z"
   },
   {
    "duration": 40,
    "start_time": "2022-04-24T16:31:40.573Z"
   },
   {
    "duration": 4,
    "start_time": "2022-04-24T16:31:43.040Z"
   },
   {
    "duration": 10,
    "start_time": "2022-04-24T16:31:44.813Z"
   },
   {
    "duration": 38,
    "start_time": "2022-04-24T16:31:45.542Z"
   },
   {
    "duration": 14,
    "start_time": "2022-04-24T16:31:52.847Z"
   },
   {
    "duration": 13,
    "start_time": "2022-04-24T16:31:57.757Z"
   },
   {
    "duration": 4,
    "start_time": "2022-04-24T16:36:08.467Z"
   },
   {
    "duration": 24,
    "start_time": "2022-04-24T16:36:12.122Z"
   },
   {
    "duration": 19,
    "start_time": "2022-04-24T16:36:15.325Z"
   },
   {
    "duration": 18,
    "start_time": "2022-04-24T16:37:02.455Z"
   },
   {
    "duration": 18,
    "start_time": "2022-04-24T16:37:34.559Z"
   },
   {
    "duration": 24,
    "start_time": "2022-04-24T16:38:22.389Z"
   },
   {
    "duration": 19,
    "start_time": "2022-04-24T16:38:43.808Z"
   },
   {
    "duration": 250,
    "start_time": "2022-04-24T16:51:20.314Z"
   },
   {
    "duration": 24,
    "start_time": "2022-04-24T16:51:23.142Z"
   },
   {
    "duration": 20,
    "start_time": "2022-04-24T16:51:24.294Z"
   },
   {
    "duration": 18,
    "start_time": "2022-04-24T16:51:25.025Z"
   },
   {
    "duration": 9,
    "start_time": "2022-04-24T16:51:53.753Z"
   },
   {
    "duration": 15,
    "start_time": "2022-04-24T16:52:06.954Z"
   },
   {
    "duration": 25,
    "start_time": "2022-04-24T16:52:07.542Z"
   },
   {
    "duration": 19,
    "start_time": "2022-04-24T16:52:08.108Z"
   },
   {
    "duration": 17,
    "start_time": "2022-04-24T16:52:12.077Z"
   },
   {
    "duration": 4,
    "start_time": "2022-04-24T16:57:23.562Z"
   },
   {
    "duration": 17,
    "start_time": "2022-04-24T16:57:25.876Z"
   },
   {
    "duration": 16,
    "start_time": "2022-04-24T16:57:26.627Z"
   },
   {
    "duration": 8,
    "start_time": "2022-04-24T16:57:27.425Z"
   },
   {
    "duration": 9,
    "start_time": "2022-04-24T16:57:28.590Z"
   },
   {
    "duration": 18,
    "start_time": "2022-04-24T16:57:29.376Z"
   },
   {
    "duration": 15,
    "start_time": "2022-04-24T16:57:30.224Z"
   },
   {
    "duration": 9,
    "start_time": "2022-04-24T16:58:05.439Z"
   },
   {
    "duration": 9,
    "start_time": "2022-04-24T16:58:28.073Z"
   },
   {
    "duration": 4,
    "start_time": "2022-04-24T17:01:47.306Z"
   },
   {
    "duration": 16,
    "start_time": "2022-04-24T17:01:51.355Z"
   },
   {
    "duration": 15,
    "start_time": "2022-04-24T17:01:52.359Z"
   },
   {
    "duration": 8,
    "start_time": "2022-04-24T17:01:53.142Z"
   },
   {
    "duration": 8,
    "start_time": "2022-04-24T17:01:54.324Z"
   },
   {
    "duration": 18,
    "start_time": "2022-04-24T17:01:55.098Z"
   },
   {
    "duration": 17,
    "start_time": "2022-04-24T17:01:55.811Z"
   },
   {
    "duration": 24,
    "start_time": "2022-04-24T17:02:51.022Z"
   },
   {
    "duration": 21,
    "start_time": "2022-04-24T17:02:54.676Z"
   },
   {
    "duration": 25,
    "start_time": "2022-04-24T17:02:57.512Z"
   },
   {
    "duration": 23,
    "start_time": "2022-04-24T17:02:58.560Z"
   },
   {
    "duration": 10,
    "start_time": "2022-04-24T17:03:31.888Z"
   },
   {
    "duration": 14,
    "start_time": "2022-04-24T17:06:14.920Z"
   },
   {
    "duration": 372,
    "start_time": "2022-04-25T11:10:29.408Z"
   },
   {
    "duration": 155,
    "start_time": "2022-04-25T11:10:29.782Z"
   },
   {
    "duration": 17,
    "start_time": "2022-04-25T11:10:29.938Z"
   },
   {
    "duration": 39,
    "start_time": "2022-04-25T11:10:29.957Z"
   },
   {
    "duration": 20,
    "start_time": "2022-04-25T11:10:29.998Z"
   },
   {
    "duration": 21,
    "start_time": "2022-04-25T11:10:30.020Z"
   },
   {
    "duration": 10,
    "start_time": "2022-04-25T11:10:30.043Z"
   },
   {
    "duration": 31,
    "start_time": "2022-04-25T11:10:30.055Z"
   },
   {
    "duration": 25,
    "start_time": "2022-04-25T11:10:30.088Z"
   },
   {
    "duration": 25,
    "start_time": "2022-04-25T11:10:30.115Z"
   },
   {
    "duration": 84,
    "start_time": "2022-04-25T11:10:30.142Z"
   },
   {
    "duration": 89,
    "start_time": "2022-04-25T11:10:30.228Z"
   },
   {
    "duration": 70,
    "start_time": "2022-04-25T11:10:30.319Z"
   },
   {
    "duration": 40,
    "start_time": "2022-04-25T11:10:30.393Z"
   },
   {
    "duration": 3,
    "start_time": "2022-04-25T11:10:30.434Z"
   },
   {
    "duration": 26,
    "start_time": "2022-04-25T11:10:30.439Z"
   },
   {
    "duration": 57,
    "start_time": "2022-04-25T11:10:30.474Z"
   },
   {
    "duration": 13,
    "start_time": "2022-04-25T11:10:30.533Z"
   },
   {
    "duration": 17,
    "start_time": "2022-04-25T11:10:30.548Z"
   },
   {
    "duration": 9,
    "start_time": "2022-04-25T11:10:30.567Z"
   },
   {
    "duration": 32,
    "start_time": "2022-04-25T11:10:30.578Z"
   },
   {
    "duration": 15,
    "start_time": "2022-04-25T11:10:30.612Z"
   },
   {
    "duration": 61,
    "start_time": "2022-04-25T11:10:30.629Z"
   },
   {
    "duration": 17,
    "start_time": "2022-04-25T11:10:30.692Z"
   },
   {
    "duration": 19,
    "start_time": "2022-04-25T11:10:30.711Z"
   },
   {
    "duration": 41,
    "start_time": "2022-04-25T11:10:30.733Z"
   },
   {
    "duration": 4,
    "start_time": "2022-04-25T11:10:30.776Z"
   },
   {
    "duration": 7,
    "start_time": "2022-04-25T11:10:30.782Z"
   },
   {
    "duration": 9,
    "start_time": "2022-04-25T11:10:30.791Z"
   },
   {
    "duration": 16,
    "start_time": "2022-04-25T11:10:30.802Z"
   },
   {
    "duration": 14,
    "start_time": "2022-04-25T11:10:30.820Z"
   },
   {
    "duration": 17,
    "start_time": "2022-04-25T11:10:30.836Z"
   },
   {
    "duration": 18,
    "start_time": "2022-04-25T11:10:30.855Z"
   },
   {
    "duration": 9,
    "start_time": "2022-04-25T11:10:30.875Z"
   },
   {
    "duration": 9,
    "start_time": "2022-04-25T11:10:30.885Z"
   },
   {
    "duration": 7,
    "start_time": "2022-04-25T11:10:30.896Z"
   },
   {
    "duration": 6,
    "start_time": "2022-04-25T11:10:30.905Z"
   },
   {
    "duration": 6,
    "start_time": "2022-04-25T11:10:30.912Z"
   },
   {
    "duration": 363,
    "start_time": "2022-04-25T11:47:37.324Z"
   },
   {
    "duration": 145,
    "start_time": "2022-04-25T11:47:37.689Z"
   },
   {
    "duration": 18,
    "start_time": "2022-04-25T11:47:37.836Z"
   },
   {
    "duration": 43,
    "start_time": "2022-04-25T11:47:37.857Z"
   },
   {
    "duration": 4,
    "start_time": "2022-04-25T11:47:37.901Z"
   },
   {
    "duration": 17,
    "start_time": "2022-04-25T11:47:37.907Z"
   },
   {
    "duration": 7,
    "start_time": "2022-04-25T11:47:37.926Z"
   },
   {
    "duration": 51,
    "start_time": "2022-04-25T11:47:37.935Z"
   },
   {
    "duration": 21,
    "start_time": "2022-04-25T11:47:37.988Z"
   },
   {
    "duration": 26,
    "start_time": "2022-04-25T11:47:38.012Z"
   },
   {
    "duration": 85,
    "start_time": "2022-04-25T11:47:38.040Z"
   },
   {
    "duration": 87,
    "start_time": "2022-04-25T11:47:38.127Z"
   },
   {
    "duration": 79,
    "start_time": "2022-04-25T11:47:38.216Z"
   },
   {
    "duration": 41,
    "start_time": "2022-04-25T11:47:38.297Z"
   },
   {
    "duration": 4,
    "start_time": "2022-04-25T11:47:38.340Z"
   },
   {
    "duration": 31,
    "start_time": "2022-04-25T11:47:38.345Z"
   },
   {
    "duration": 38,
    "start_time": "2022-04-25T11:47:38.378Z"
   },
   {
    "duration": 16,
    "start_time": "2022-04-25T11:47:38.418Z"
   },
   {
    "duration": 38,
    "start_time": "2022-04-25T11:47:38.436Z"
   },
   {
    "duration": 4,
    "start_time": "2022-04-25T11:47:38.476Z"
   },
   {
    "duration": 22,
    "start_time": "2022-04-25T11:47:38.482Z"
   },
   {
    "duration": 16,
    "start_time": "2022-04-25T11:47:38.506Z"
   },
   {
    "duration": 17,
    "start_time": "2022-04-25T11:47:38.524Z"
   },
   {
    "duration": 44,
    "start_time": "2022-04-25T11:47:38.543Z"
   },
   {
    "duration": 18,
    "start_time": "2022-04-25T11:47:38.589Z"
   },
   {
    "duration": 16,
    "start_time": "2022-04-25T11:47:38.609Z"
   },
   {
    "duration": 8,
    "start_time": "2022-04-25T11:47:38.627Z"
   },
   {
    "duration": 36,
    "start_time": "2022-04-25T11:47:38.638Z"
   },
   {
    "duration": 7,
    "start_time": "2022-04-25T11:47:38.675Z"
   },
   {
    "duration": 5,
    "start_time": "2022-04-25T11:47:38.684Z"
   },
   {
    "duration": 8,
    "start_time": "2022-04-25T11:47:38.690Z"
   },
   {
    "duration": 6,
    "start_time": "2022-04-25T11:47:38.699Z"
   },
   {
    "duration": 9,
    "start_time": "2022-04-25T11:47:38.706Z"
   },
   {
    "duration": 5,
    "start_time": "2022-04-25T11:47:38.717Z"
   },
   {
    "duration": 5,
    "start_time": "2022-04-25T11:47:38.723Z"
   },
   {
    "duration": 5,
    "start_time": "2022-04-25T11:47:38.729Z"
   },
   {
    "duration": 6,
    "start_time": "2022-04-25T11:47:38.735Z"
   },
   {
    "duration": 5,
    "start_time": "2022-04-25T11:47:38.742Z"
   },
   {
    "duration": 450,
    "start_time": "2022-04-25T13:41:48.740Z"
   },
   {
    "duration": 169,
    "start_time": "2022-04-25T13:41:49.193Z"
   },
   {
    "duration": 24,
    "start_time": "2022-04-25T13:41:49.364Z"
   },
   {
    "duration": 35,
    "start_time": "2022-04-25T13:41:49.390Z"
   },
   {
    "duration": 12,
    "start_time": "2022-04-25T13:41:49.427Z"
   },
   {
    "duration": 39,
    "start_time": "2022-04-25T13:41:49.441Z"
   },
   {
    "duration": 11,
    "start_time": "2022-04-25T13:41:49.482Z"
   },
   {
    "duration": 33,
    "start_time": "2022-04-25T13:41:49.494Z"
   },
   {
    "duration": 24,
    "start_time": "2022-04-25T13:41:49.529Z"
   },
   {
    "duration": 37,
    "start_time": "2022-04-25T13:41:49.555Z"
   },
   {
    "duration": 98,
    "start_time": "2022-04-25T13:41:49.594Z"
   },
   {
    "duration": 94,
    "start_time": "2022-04-25T13:41:49.694Z"
   },
   {
    "duration": 83,
    "start_time": "2022-04-25T13:41:49.791Z"
   },
   {
    "duration": 44,
    "start_time": "2022-04-25T13:41:49.879Z"
   },
   {
    "duration": 3,
    "start_time": "2022-04-25T13:41:49.925Z"
   },
   {
    "duration": 17,
    "start_time": "2022-04-25T13:41:49.930Z"
   },
   {
    "duration": 73,
    "start_time": "2022-04-25T13:41:49.949Z"
   },
   {
    "duration": 16,
    "start_time": "2022-04-25T13:41:50.028Z"
   },
   {
    "duration": 37,
    "start_time": "2022-04-25T13:41:50.046Z"
   },
   {
    "duration": 5,
    "start_time": "2022-04-25T13:41:50.086Z"
   },
   {
    "duration": 35,
    "start_time": "2022-04-25T13:41:50.093Z"
   },
   {
    "duration": 26,
    "start_time": "2022-04-25T13:41:50.130Z"
   },
   {
    "duration": 24,
    "start_time": "2022-04-25T13:41:50.173Z"
   },
   {
    "duration": 19,
    "start_time": "2022-04-25T13:41:50.199Z"
   },
   {
    "duration": 28,
    "start_time": "2022-04-25T13:41:50.220Z"
   },
   {
    "duration": 22,
    "start_time": "2022-04-25T13:41:50.274Z"
   },
   {
    "duration": 18,
    "start_time": "2022-04-25T13:41:50.298Z"
   },
   {
    "duration": 14,
    "start_time": "2022-04-25T13:41:50.318Z"
   },
   {
    "duration": 8,
    "start_time": "2022-04-25T13:41:50.334Z"
   },
   {
    "duration": 7,
    "start_time": "2022-04-25T13:41:50.345Z"
   },
   {
    "duration": 15,
    "start_time": "2022-04-25T13:41:50.354Z"
   },
   {
    "duration": 16,
    "start_time": "2022-04-25T13:41:50.371Z"
   },
   {
    "duration": 10,
    "start_time": "2022-04-25T13:41:50.389Z"
   },
   {
    "duration": 18,
    "start_time": "2022-04-25T13:41:50.400Z"
   },
   {
    "duration": 22,
    "start_time": "2022-04-25T13:41:50.421Z"
   },
   {
    "duration": 9,
    "start_time": "2022-04-25T13:41:50.445Z"
   },
   {
    "duration": 11,
    "start_time": "2022-04-25T13:41:50.455Z"
   },
   {
    "duration": 7,
    "start_time": "2022-04-25T13:41:50.467Z"
   },
   {
    "duration": 528,
    "start_time": "2022-04-26T06:10:17.186Z"
   },
   {
    "duration": 210,
    "start_time": "2022-04-26T06:10:17.717Z"
   },
   {
    "duration": 26,
    "start_time": "2022-04-26T06:10:17.930Z"
   },
   {
    "duration": 53,
    "start_time": "2022-04-26T06:10:17.959Z"
   },
   {
    "duration": 5,
    "start_time": "2022-04-26T06:10:18.015Z"
   },
   {
    "duration": 21,
    "start_time": "2022-04-26T06:10:18.022Z"
   },
   {
    "duration": 37,
    "start_time": "2022-04-26T06:10:18.045Z"
   },
   {
    "duration": 32,
    "start_time": "2022-04-26T06:10:18.084Z"
   },
   {
    "duration": 27,
    "start_time": "2022-04-26T06:10:18.119Z"
   },
   {
    "duration": 58,
    "start_time": "2022-04-26T06:10:18.150Z"
   },
   {
    "duration": 114,
    "start_time": "2022-04-26T06:10:18.210Z"
   },
   {
    "duration": 128,
    "start_time": "2022-04-26T06:10:18.326Z"
   },
   {
    "duration": 102,
    "start_time": "2022-04-26T06:10:18.456Z"
   },
   {
    "duration": 62,
    "start_time": "2022-04-26T06:10:18.560Z"
   },
   {
    "duration": 4,
    "start_time": "2022-04-26T06:10:18.624Z"
   },
   {
    "duration": 17,
    "start_time": "2022-04-26T06:10:18.630Z"
   },
   {
    "duration": 75,
    "start_time": "2022-04-26T06:10:18.649Z"
   },
   {
    "duration": 18,
    "start_time": "2022-04-26T06:10:18.726Z"
   },
   {
    "duration": 37,
    "start_time": "2022-04-26T06:10:18.746Z"
   },
   {
    "duration": 5,
    "start_time": "2022-04-26T06:10:18.785Z"
   },
   {
    "duration": 54,
    "start_time": "2022-04-26T06:10:18.793Z"
   },
   {
    "duration": 23,
    "start_time": "2022-04-26T06:10:18.850Z"
   },
   {
    "duration": 23,
    "start_time": "2022-04-26T06:10:18.882Z"
   },
   {
    "duration": 22,
    "start_time": "2022-04-26T06:10:18.908Z"
   },
   {
    "duration": 62,
    "start_time": "2022-04-26T06:10:18.933Z"
   },
   {
    "duration": 22,
    "start_time": "2022-04-26T06:10:18.998Z"
   },
   {
    "duration": 12,
    "start_time": "2022-04-26T06:10:19.023Z"
   },
   {
    "duration": 3,
    "start_time": "2022-04-26T06:10:19.039Z"
   },
   {
    "duration": 40,
    "start_time": "2022-04-26T06:10:19.044Z"
   },
   {
    "duration": 10,
    "start_time": "2022-04-26T06:10:19.087Z"
   },
   {
    "duration": 12,
    "start_time": "2022-04-26T06:10:19.099Z"
   },
   {
    "duration": 6,
    "start_time": "2022-04-26T06:10:19.113Z"
   },
   {
    "duration": 9,
    "start_time": "2022-04-26T06:10:19.122Z"
   },
   {
    "duration": 7,
    "start_time": "2022-04-26T06:10:19.134Z"
   },
   {
    "duration": 8,
    "start_time": "2022-04-26T06:10:19.143Z"
   },
   {
    "duration": 9,
    "start_time": "2022-04-26T06:10:19.153Z"
   },
   {
    "duration": 2,
    "start_time": "2022-04-26T06:10:19.181Z"
   },
   {
    "duration": 10,
    "start_time": "2022-04-26T06:10:19.185Z"
   },
   {
    "duration": 31,
    "start_time": "2022-04-26T14:07:05.887Z"
   },
   {
    "duration": 28,
    "start_time": "2022-04-26T14:07:27.532Z"
   },
   {
    "duration": 46,
    "start_time": "2022-04-26T14:07:48.463Z"
   },
   {
    "duration": 15,
    "start_time": "2022-04-26T14:10:45.240Z"
   },
   {
    "duration": 535,
    "start_time": "2022-04-26T14:15:20.143Z"
   },
   {
    "duration": 289,
    "start_time": "2022-04-26T14:15:20.682Z"
   },
   {
    "duration": 37,
    "start_time": "2022-04-26T14:15:20.973Z"
   },
   {
    "duration": 116,
    "start_time": "2022-04-26T14:15:21.013Z"
   },
   {
    "duration": 17,
    "start_time": "2022-04-26T14:15:21.135Z"
   },
   {
    "duration": 20,
    "start_time": "2022-04-26T14:15:21.155Z"
   },
   {
    "duration": 17,
    "start_time": "2022-04-26T14:15:21.177Z"
   },
   {
    "duration": 92,
    "start_time": "2022-04-26T14:15:21.198Z"
   },
   {
    "duration": 69,
    "start_time": "2022-04-26T14:15:21.295Z"
   },
   {
    "duration": 60,
    "start_time": "2022-04-26T14:15:21.367Z"
   },
   {
    "duration": 127,
    "start_time": "2022-04-26T14:15:21.430Z"
   },
   {
    "duration": 150,
    "start_time": "2022-04-26T14:15:21.560Z"
   },
   {
    "duration": 115,
    "start_time": "2022-04-26T14:15:21.713Z"
   },
   {
    "duration": 71,
    "start_time": "2022-04-26T14:15:21.833Z"
   },
   {
    "duration": 8,
    "start_time": "2022-04-26T14:15:21.906Z"
   },
   {
    "duration": 46,
    "start_time": "2022-04-26T14:15:21.916Z"
   },
   {
    "duration": 77,
    "start_time": "2022-04-26T14:15:21.965Z"
   },
   {
    "duration": 18,
    "start_time": "2022-04-26T14:15:22.045Z"
   },
   {
    "duration": 33,
    "start_time": "2022-04-26T14:15:22.090Z"
   },
   {
    "duration": 15,
    "start_time": "2022-04-26T14:15:22.125Z"
   },
   {
    "duration": 30,
    "start_time": "2022-04-26T14:15:22.142Z"
   },
   {
    "duration": 38,
    "start_time": "2022-04-26T14:15:22.174Z"
   },
   {
    "duration": 46,
    "start_time": "2022-04-26T14:15:22.214Z"
   },
   {
    "duration": 22,
    "start_time": "2022-04-26T14:15:22.262Z"
   },
   {
    "duration": 33,
    "start_time": "2022-04-26T14:15:22.286Z"
   },
   {
    "duration": 39,
    "start_time": "2022-04-26T14:15:22.322Z"
   },
   {
    "duration": 12,
    "start_time": "2022-04-26T14:15:22.364Z"
   },
   {
    "duration": 48,
    "start_time": "2022-04-26T14:15:22.378Z"
   },
   {
    "duration": 22,
    "start_time": "2022-04-26T14:15:22.429Z"
   },
   {
    "duration": 4,
    "start_time": "2022-04-26T14:15:22.453Z"
   },
   {
    "duration": 10,
    "start_time": "2022-04-26T14:15:22.459Z"
   },
   {
    "duration": 6,
    "start_time": "2022-04-26T14:15:22.471Z"
   },
   {
    "duration": 58,
    "start_time": "2022-04-26T14:15:22.479Z"
   },
   {
    "duration": 6,
    "start_time": "2022-04-26T14:15:22.540Z"
   },
   {
    "duration": 6,
    "start_time": "2022-04-26T14:15:22.548Z"
   },
   {
    "duration": 8,
    "start_time": "2022-04-26T14:15:22.556Z"
   },
   {
    "duration": 7,
    "start_time": "2022-04-26T14:15:22.565Z"
   },
   {
    "duration": 7,
    "start_time": "2022-04-26T14:15:22.574Z"
   },
   {
    "duration": 132,
    "start_time": "2022-04-26T14:45:24.468Z"
   },
   {
    "duration": 563,
    "start_time": "2022-04-26T14:51:17.111Z"
   },
   {
    "duration": 264,
    "start_time": "2022-04-26T14:51:17.677Z"
   },
   {
    "duration": 26,
    "start_time": "2022-04-26T14:51:17.943Z"
   },
   {
    "duration": 66,
    "start_time": "2022-04-26T14:51:17.972Z"
   },
   {
    "duration": 6,
    "start_time": "2022-04-26T14:51:18.041Z"
   },
   {
    "duration": 51,
    "start_time": "2022-04-26T14:51:18.049Z"
   },
   {
    "duration": 37,
    "start_time": "2022-04-26T14:51:18.107Z"
   },
   {
    "duration": 49,
    "start_time": "2022-04-26T14:51:18.147Z"
   },
   {
    "duration": 67,
    "start_time": "2022-04-26T14:51:18.203Z"
   },
   {
    "duration": 55,
    "start_time": "2022-04-26T14:51:18.272Z"
   },
   {
    "duration": 165,
    "start_time": "2022-04-26T14:51:18.330Z"
   },
   {
    "duration": 161,
    "start_time": "2022-04-26T14:51:18.497Z"
   },
   {
    "duration": 125,
    "start_time": "2022-04-26T14:51:18.661Z"
   },
   {
    "duration": 76,
    "start_time": "2022-04-26T14:51:18.795Z"
   },
   {
    "duration": 14,
    "start_time": "2022-04-26T14:51:18.874Z"
   },
   {
    "duration": 60,
    "start_time": "2022-04-26T14:51:18.891Z"
   },
   {
    "duration": 88,
    "start_time": "2022-04-26T14:51:18.953Z"
   },
   {
    "duration": 18,
    "start_time": "2022-04-26T14:51:19.046Z"
   },
   {
    "duration": 23,
    "start_time": "2022-04-26T14:51:19.066Z"
   },
   {
    "duration": 18,
    "start_time": "2022-04-26T14:51:19.099Z"
   },
   {
    "duration": 49,
    "start_time": "2022-04-26T14:51:19.121Z"
   },
   {
    "duration": 35,
    "start_time": "2022-04-26T14:51:19.173Z"
   },
   {
    "duration": 67,
    "start_time": "2022-04-26T14:51:19.210Z"
   },
   {
    "duration": 28,
    "start_time": "2022-04-26T14:51:19.279Z"
   },
   {
    "duration": 59,
    "start_time": "2022-04-26T14:51:19.310Z"
   },
   {
    "duration": 24,
    "start_time": "2022-04-26T14:51:19.371Z"
   },
   {
    "duration": 57,
    "start_time": "2022-04-26T14:51:19.398Z"
   },
   {
    "duration": 28,
    "start_time": "2022-04-26T14:51:19.458Z"
   },
   {
    "duration": 17,
    "start_time": "2022-04-26T14:51:19.498Z"
   },
   {
    "duration": 34,
    "start_time": "2022-04-26T14:51:19.517Z"
   },
   {
    "duration": 2696,
    "start_time": "2022-04-26T14:51:19.553Z"
   },
   {
    "duration": 0,
    "start_time": "2022-04-26T14:51:22.252Z"
   },
   {
    "duration": 0,
    "start_time": "2022-04-26T14:51:22.254Z"
   },
   {
    "duration": 0,
    "start_time": "2022-04-26T14:51:22.256Z"
   },
   {
    "duration": 0,
    "start_time": "2022-04-26T14:51:22.258Z"
   },
   {
    "duration": 0,
    "start_time": "2022-04-26T14:51:22.259Z"
   },
   {
    "duration": 0,
    "start_time": "2022-04-26T14:51:22.261Z"
   },
   {
    "duration": 0,
    "start_time": "2022-04-26T14:51:22.262Z"
   },
   {
    "duration": 549,
    "start_time": "2022-04-26T14:52:41.403Z"
   },
   {
    "duration": 248,
    "start_time": "2022-04-26T14:52:41.955Z"
   },
   {
    "duration": 34,
    "start_time": "2022-04-26T14:52:42.208Z"
   },
   {
    "duration": 50,
    "start_time": "2022-04-26T14:52:42.246Z"
   },
   {
    "duration": 41,
    "start_time": "2022-04-26T14:52:42.300Z"
   },
   {
    "duration": 20,
    "start_time": "2022-04-26T14:52:42.344Z"
   },
   {
    "duration": 13,
    "start_time": "2022-04-26T14:52:42.366Z"
   },
   {
    "duration": 84,
    "start_time": "2022-04-26T14:52:42.381Z"
   },
   {
    "duration": 32,
    "start_time": "2022-04-26T14:52:42.467Z"
   },
   {
    "duration": 63,
    "start_time": "2022-04-26T14:52:42.504Z"
   },
   {
    "duration": 115,
    "start_time": "2022-04-26T14:52:42.569Z"
   },
   {
    "duration": 142,
    "start_time": "2022-04-26T14:52:42.687Z"
   },
   {
    "duration": 107,
    "start_time": "2022-04-26T14:52:42.834Z"
   },
   {
    "duration": 80,
    "start_time": "2022-04-26T14:52:42.943Z"
   },
   {
    "duration": 15,
    "start_time": "2022-04-26T14:52:43.030Z"
   },
   {
    "duration": 16,
    "start_time": "2022-04-26T14:52:43.047Z"
   },
   {
    "duration": 78,
    "start_time": "2022-04-26T14:52:43.066Z"
   },
   {
    "duration": 17,
    "start_time": "2022-04-26T14:52:43.146Z"
   },
   {
    "duration": 31,
    "start_time": "2022-04-26T14:52:43.165Z"
   },
   {
    "duration": 47,
    "start_time": "2022-04-26T14:52:43.199Z"
   },
   {
    "duration": 27,
    "start_time": "2022-04-26T14:52:43.249Z"
   },
   {
    "duration": 31,
    "start_time": "2022-04-26T14:52:43.278Z"
   },
   {
    "duration": 44,
    "start_time": "2022-04-26T14:52:43.315Z"
   },
   {
    "duration": 22,
    "start_time": "2022-04-26T14:52:43.361Z"
   },
   {
    "duration": 39,
    "start_time": "2022-04-26T14:52:43.393Z"
   },
   {
    "duration": 28,
    "start_time": "2022-04-26T14:52:43.435Z"
   },
   {
    "duration": 12,
    "start_time": "2022-04-26T14:52:43.465Z"
   },
   {
    "duration": 63,
    "start_time": "2022-04-26T14:52:43.489Z"
   },
   {
    "duration": 14,
    "start_time": "2022-04-26T14:52:43.554Z"
   },
   {
    "duration": 6,
    "start_time": "2022-04-26T14:52:43.570Z"
   },
   {
    "duration": 2614,
    "start_time": "2022-04-26T14:52:43.579Z"
   },
   {
    "duration": 0,
    "start_time": "2022-04-26T14:52:46.196Z"
   },
   {
    "duration": 0,
    "start_time": "2022-04-26T14:52:46.204Z"
   },
   {
    "duration": 0,
    "start_time": "2022-04-26T14:52:46.206Z"
   },
   {
    "duration": 0,
    "start_time": "2022-04-26T14:52:46.207Z"
   },
   {
    "duration": 1,
    "start_time": "2022-04-26T14:52:46.209Z"
   },
   {
    "duration": 0,
    "start_time": "2022-04-26T14:52:46.212Z"
   },
   {
    "duration": 0,
    "start_time": "2022-04-26T14:52:46.216Z"
   },
   {
    "duration": 5,
    "start_time": "2022-04-26T14:53:12.154Z"
   },
   {
    "duration": 2416,
    "start_time": "2022-04-26T14:53:17.102Z"
   },
   {
    "duration": 0,
    "start_time": "2022-04-26T14:53:19.522Z"
   },
   {
    "duration": 611,
    "start_time": "2022-04-26T15:02:04.381Z"
   },
   {
    "duration": 265,
    "start_time": "2022-04-26T15:02:04.999Z"
   },
   {
    "duration": 35,
    "start_time": "2022-04-26T15:02:05.266Z"
   },
   {
    "duration": 85,
    "start_time": "2022-04-26T15:02:05.309Z"
   },
   {
    "duration": 6,
    "start_time": "2022-04-26T15:02:05.406Z"
   },
   {
    "duration": 47,
    "start_time": "2022-04-26T15:02:05.414Z"
   },
   {
    "duration": 15,
    "start_time": "2022-04-26T15:02:05.463Z"
   },
   {
    "duration": 80,
    "start_time": "2022-04-26T15:02:05.481Z"
   },
   {
    "duration": 98,
    "start_time": "2022-04-26T15:02:05.563Z"
   },
   {
    "duration": 43,
    "start_time": "2022-04-26T15:02:05.665Z"
   },
   {
    "duration": 146,
    "start_time": "2022-04-26T15:02:05.710Z"
   },
   {
    "duration": 154,
    "start_time": "2022-04-26T15:02:05.859Z"
   },
   {
    "duration": 117,
    "start_time": "2022-04-26T15:02:06.018Z"
   },
   {
    "duration": 102,
    "start_time": "2022-04-26T15:02:06.146Z"
   },
   {
    "duration": 5,
    "start_time": "2022-04-26T15:02:06.255Z"
   },
   {
    "duration": 36,
    "start_time": "2022-04-26T15:02:06.262Z"
   },
   {
    "duration": 137,
    "start_time": "2022-04-26T15:02:06.302Z"
   },
   {
    "duration": 25,
    "start_time": "2022-04-26T15:02:06.443Z"
   },
   {
    "duration": 45,
    "start_time": "2022-04-26T15:02:06.470Z"
   },
   {
    "duration": 43,
    "start_time": "2022-04-26T15:02:06.518Z"
   },
   {
    "duration": 51,
    "start_time": "2022-04-26T15:02:06.563Z"
   },
   {
    "duration": 45,
    "start_time": "2022-04-26T15:02:06.618Z"
   },
   {
    "duration": 38,
    "start_time": "2022-04-26T15:02:06.666Z"
   },
   {
    "duration": 50,
    "start_time": "2022-04-26T15:02:06.706Z"
   },
   {
    "duration": 33,
    "start_time": "2022-04-26T15:02:06.759Z"
   },
   {
    "duration": 43,
    "start_time": "2022-04-26T15:02:06.795Z"
   },
   {
    "duration": 21,
    "start_time": "2022-04-26T15:02:06.841Z"
   },
   {
    "duration": 44,
    "start_time": "2022-04-26T15:02:06.866Z"
   },
   {
    "duration": 54,
    "start_time": "2022-04-26T15:02:06.912Z"
   },
   {
    "duration": 8,
    "start_time": "2022-04-26T15:02:06.969Z"
   },
   {
    "duration": 3043,
    "start_time": "2022-04-26T15:02:06.980Z"
   },
   {
    "duration": 0,
    "start_time": "2022-04-26T15:02:10.025Z"
   },
   {
    "duration": 0,
    "start_time": "2022-04-26T15:02:10.027Z"
   },
   {
    "duration": 0,
    "start_time": "2022-04-26T15:02:10.030Z"
   },
   {
    "duration": 0,
    "start_time": "2022-04-26T15:02:10.032Z"
   },
   {
    "duration": 0,
    "start_time": "2022-04-26T15:02:10.034Z"
   },
   {
    "duration": 0,
    "start_time": "2022-04-26T15:02:10.036Z"
   },
   {
    "duration": 0,
    "start_time": "2022-04-26T15:02:10.038Z"
   },
   {
    "duration": 629,
    "start_time": "2022-04-26T15:02:41.173Z"
   },
   {
    "duration": 264,
    "start_time": "2022-04-26T15:02:41.809Z"
   },
   {
    "duration": 50,
    "start_time": "2022-04-26T15:02:42.076Z"
   },
   {
    "duration": 61,
    "start_time": "2022-04-26T15:02:42.134Z"
   },
   {
    "duration": 21,
    "start_time": "2022-04-26T15:02:42.200Z"
   },
   {
    "duration": 53,
    "start_time": "2022-04-26T15:02:42.224Z"
   },
   {
    "duration": 57,
    "start_time": "2022-04-26T15:02:42.280Z"
   },
   {
    "duration": 65,
    "start_time": "2022-04-26T15:02:42.340Z"
   },
   {
    "duration": 66,
    "start_time": "2022-04-26T15:02:42.408Z"
   },
   {
    "duration": 54,
    "start_time": "2022-04-26T15:02:42.478Z"
   },
   {
    "duration": 140,
    "start_time": "2022-04-26T15:02:42.535Z"
   },
   {
    "duration": 145,
    "start_time": "2022-04-26T15:02:42.677Z"
   },
   {
    "duration": 115,
    "start_time": "2022-04-26T15:02:42.831Z"
   },
   {
    "duration": 86,
    "start_time": "2022-04-26T15:02:42.949Z"
   },
   {
    "duration": 8,
    "start_time": "2022-04-26T15:02:43.038Z"
   },
   {
    "duration": 19,
    "start_time": "2022-04-26T15:02:43.048Z"
   },
   {
    "duration": 97,
    "start_time": "2022-04-26T15:02:43.069Z"
   },
   {
    "duration": 30,
    "start_time": "2022-04-26T15:02:43.168Z"
   },
   {
    "duration": 36,
    "start_time": "2022-04-26T15:02:43.200Z"
   },
   {
    "duration": 17,
    "start_time": "2022-04-26T15:02:43.241Z"
   },
   {
    "duration": 50,
    "start_time": "2022-04-26T15:02:43.261Z"
   },
   {
    "duration": 63,
    "start_time": "2022-04-26T15:02:43.317Z"
   },
   {
    "duration": 31,
    "start_time": "2022-04-26T15:02:43.383Z"
   },
   {
    "duration": 58,
    "start_time": "2022-04-26T15:02:43.416Z"
   },
   {
    "duration": 43,
    "start_time": "2022-04-26T15:02:43.476Z"
   },
   {
    "duration": 52,
    "start_time": "2022-04-26T15:02:43.522Z"
   },
   {
    "duration": 27,
    "start_time": "2022-04-26T15:02:43.577Z"
   },
   {
    "duration": 56,
    "start_time": "2022-04-26T15:02:43.611Z"
   },
   {
    "duration": 13,
    "start_time": "2022-04-26T15:02:43.670Z"
   },
   {
    "duration": 64,
    "start_time": "2022-04-26T15:02:43.686Z"
   },
   {
    "duration": 178,
    "start_time": "2022-04-26T15:02:43.753Z"
   },
   {
    "duration": 0,
    "start_time": "2022-04-26T15:02:43.934Z"
   },
   {
    "duration": 0,
    "start_time": "2022-04-26T15:02:43.936Z"
   },
   {
    "duration": 0,
    "start_time": "2022-04-26T15:02:43.940Z"
   },
   {
    "duration": 0,
    "start_time": "2022-04-26T15:02:43.941Z"
   },
   {
    "duration": 0,
    "start_time": "2022-04-26T15:02:43.946Z"
   },
   {
    "duration": 0,
    "start_time": "2022-04-26T15:02:43.947Z"
   },
   {
    "duration": 0,
    "start_time": "2022-04-26T15:02:43.949Z"
   },
   {
    "duration": 528,
    "start_time": "2022-04-26T15:03:38.741Z"
   },
   {
    "duration": 238,
    "start_time": "2022-04-26T15:03:39.272Z"
   },
   {
    "duration": 31,
    "start_time": "2022-04-26T15:03:39.520Z"
   },
   {
    "duration": 46,
    "start_time": "2022-04-26T15:03:39.553Z"
   },
   {
    "duration": 41,
    "start_time": "2022-04-26T15:03:39.603Z"
   },
   {
    "duration": 25,
    "start_time": "2022-04-26T15:03:39.647Z"
   },
   {
    "duration": 18,
    "start_time": "2022-04-26T15:03:39.674Z"
   },
   {
    "duration": 72,
    "start_time": "2022-04-26T15:03:39.694Z"
   },
   {
    "duration": 37,
    "start_time": "2022-04-26T15:03:39.769Z"
   },
   {
    "duration": 62,
    "start_time": "2022-04-26T15:03:39.809Z"
   },
   {
    "duration": 118,
    "start_time": "2022-04-26T15:03:39.874Z"
   },
   {
    "duration": 139,
    "start_time": "2022-04-26T15:03:39.999Z"
   },
   {
    "duration": 114,
    "start_time": "2022-04-26T15:03:40.141Z"
   },
   {
    "duration": 85,
    "start_time": "2022-04-26T15:03:40.260Z"
   },
   {
    "duration": 5,
    "start_time": "2022-04-26T15:03:40.347Z"
   },
   {
    "duration": 44,
    "start_time": "2022-04-26T15:03:40.354Z"
   },
   {
    "duration": 70,
    "start_time": "2022-04-26T15:03:40.401Z"
   },
   {
    "duration": 32,
    "start_time": "2022-04-26T15:03:40.473Z"
   },
   {
    "duration": 46,
    "start_time": "2022-04-26T15:03:40.510Z"
   },
   {
    "duration": 5,
    "start_time": "2022-04-26T15:03:40.558Z"
   },
   {
    "duration": 88,
    "start_time": "2022-04-26T15:03:40.565Z"
   },
   {
    "duration": 24,
    "start_time": "2022-04-26T15:03:40.655Z"
   },
   {
    "duration": 74,
    "start_time": "2022-04-26T15:03:40.681Z"
   },
   {
    "duration": 40,
    "start_time": "2022-04-26T15:03:40.758Z"
   },
   {
    "duration": 61,
    "start_time": "2022-04-26T15:03:40.801Z"
   },
   {
    "duration": 28,
    "start_time": "2022-04-26T15:03:40.864Z"
   },
   {
    "duration": 32,
    "start_time": "2022-04-26T15:03:40.894Z"
   },
   {
    "duration": 28,
    "start_time": "2022-04-26T15:03:40.929Z"
   },
   {
    "duration": 66,
    "start_time": "2022-04-26T15:03:40.959Z"
   },
   {
    "duration": 20,
    "start_time": "2022-04-26T15:03:41.028Z"
   },
   {
    "duration": 2536,
    "start_time": "2022-04-26T15:03:41.050Z"
   },
   {
    "duration": 0,
    "start_time": "2022-04-26T15:03:43.589Z"
   },
   {
    "duration": 0,
    "start_time": "2022-04-26T15:03:43.592Z"
   },
   {
    "duration": 0,
    "start_time": "2022-04-26T15:03:43.594Z"
   },
   {
    "duration": 0,
    "start_time": "2022-04-26T15:03:43.597Z"
   },
   {
    "duration": 0,
    "start_time": "2022-04-26T15:03:43.599Z"
   },
   {
    "duration": 0,
    "start_time": "2022-04-26T15:03:43.601Z"
   },
   {
    "duration": 0,
    "start_time": "2022-04-26T15:03:43.603Z"
   },
   {
    "duration": 7,
    "start_time": "2022-04-26T15:07:56.950Z"
   },
   {
    "duration": 2360,
    "start_time": "2022-04-26T15:07:59.414Z"
   },
   {
    "duration": 436,
    "start_time": "2022-04-26T18:51:58.165Z"
   },
   {
    "duration": 159,
    "start_time": "2022-04-26T18:51:58.603Z"
   },
   {
    "duration": 16,
    "start_time": "2022-04-26T18:51:58.764Z"
   },
   {
    "duration": 35,
    "start_time": "2022-04-26T18:51:58.782Z"
   },
   {
    "duration": 4,
    "start_time": "2022-04-26T18:51:58.819Z"
   },
   {
    "duration": 12,
    "start_time": "2022-04-26T18:51:58.825Z"
   },
   {
    "duration": 6,
    "start_time": "2022-04-26T18:51:58.839Z"
   },
   {
    "duration": 23,
    "start_time": "2022-04-26T18:51:58.846Z"
   },
   {
    "duration": 41,
    "start_time": "2022-04-26T18:51:58.871Z"
   },
   {
    "duration": 21,
    "start_time": "2022-04-26T18:51:58.915Z"
   },
   {
    "duration": 74,
    "start_time": "2022-04-26T18:51:58.937Z"
   },
   {
    "duration": 70,
    "start_time": "2022-04-26T18:51:59.013Z"
   },
   {
    "duration": 66,
    "start_time": "2022-04-26T18:51:59.084Z"
   },
   {
    "duration": 49,
    "start_time": "2022-04-26T18:51:59.152Z"
   },
   {
    "duration": 3,
    "start_time": "2022-04-26T18:51:59.203Z"
   },
   {
    "duration": 11,
    "start_time": "2022-04-26T18:51:59.208Z"
   },
   {
    "duration": 47,
    "start_time": "2022-04-26T18:51:59.221Z"
   },
   {
    "duration": 31,
    "start_time": "2022-04-26T18:51:59.270Z"
   },
   {
    "duration": 12,
    "start_time": "2022-04-26T18:51:59.302Z"
   },
   {
    "duration": 4,
    "start_time": "2022-04-26T18:51:59.316Z"
   },
   {
    "duration": 20,
    "start_time": "2022-04-26T18:51:59.321Z"
   },
   {
    "duration": 12,
    "start_time": "2022-04-26T18:51:59.342Z"
   },
   {
    "duration": 14,
    "start_time": "2022-04-26T18:51:59.355Z"
   },
   {
    "duration": 42,
    "start_time": "2022-04-26T18:51:59.370Z"
   },
   {
    "duration": 13,
    "start_time": "2022-04-26T18:51:59.414Z"
   },
   {
    "duration": 12,
    "start_time": "2022-04-26T18:51:59.429Z"
   },
   {
    "duration": 7,
    "start_time": "2022-04-26T18:51:59.443Z"
   },
   {
    "duration": 16,
    "start_time": "2022-04-26T18:51:59.453Z"
   },
   {
    "duration": 34,
    "start_time": "2022-04-26T18:51:59.471Z"
   },
   {
    "duration": 3,
    "start_time": "2022-04-26T18:51:59.507Z"
   },
   {
    "duration": 76,
    "start_time": "2022-04-26T18:51:59.512Z"
   },
   {
    "duration": 0,
    "start_time": "2022-04-26T18:51:59.589Z"
   },
   {
    "duration": 0,
    "start_time": "2022-04-26T18:51:59.591Z"
   },
   {
    "duration": 0,
    "start_time": "2022-04-26T18:51:59.600Z"
   },
   {
    "duration": 0,
    "start_time": "2022-04-26T18:51:59.601Z"
   },
   {
    "duration": 0,
    "start_time": "2022-04-26T18:51:59.601Z"
   },
   {
    "duration": 0,
    "start_time": "2022-04-26T18:51:59.602Z"
   },
   {
    "duration": 0,
    "start_time": "2022-04-26T18:51:59.603Z"
   },
   {
    "duration": 367,
    "start_time": "2022-04-26T18:52:38.228Z"
   },
   {
    "duration": 139,
    "start_time": "2022-04-26T18:52:38.599Z"
   },
   {
    "duration": 15,
    "start_time": "2022-04-26T18:52:38.740Z"
   },
   {
    "duration": 28,
    "start_time": "2022-04-26T18:52:38.757Z"
   },
   {
    "duration": 17,
    "start_time": "2022-04-26T18:52:38.786Z"
   },
   {
    "duration": 13,
    "start_time": "2022-04-26T18:52:38.804Z"
   },
   {
    "duration": 6,
    "start_time": "2022-04-26T18:52:38.818Z"
   },
   {
    "duration": 33,
    "start_time": "2022-04-26T18:52:38.825Z"
   },
   {
    "duration": 17,
    "start_time": "2022-04-26T18:52:38.860Z"
   },
   {
    "duration": 39,
    "start_time": "2022-04-26T18:52:38.879Z"
   },
   {
    "duration": 60,
    "start_time": "2022-04-26T18:52:38.920Z"
   },
   {
    "duration": 84,
    "start_time": "2022-04-26T18:52:38.982Z"
   },
   {
    "duration": 71,
    "start_time": "2022-04-26T18:52:39.068Z"
   },
   {
    "duration": 36,
    "start_time": "2022-04-26T18:52:39.141Z"
   },
   {
    "duration": 2,
    "start_time": "2022-04-26T18:52:39.178Z"
   },
   {
    "duration": 24,
    "start_time": "2022-04-26T18:52:39.181Z"
   },
   {
    "duration": 35,
    "start_time": "2022-04-26T18:52:39.206Z"
   },
   {
    "duration": 11,
    "start_time": "2022-04-26T18:52:39.243Z"
   },
   {
    "duration": 11,
    "start_time": "2022-04-26T18:52:39.255Z"
   },
   {
    "duration": 3,
    "start_time": "2022-04-26T18:52:39.267Z"
   },
   {
    "duration": 40,
    "start_time": "2022-04-26T18:52:39.271Z"
   },
   {
    "duration": 12,
    "start_time": "2022-04-26T18:52:39.313Z"
   },
   {
    "duration": 13,
    "start_time": "2022-04-26T18:52:39.326Z"
   },
   {
    "duration": 14,
    "start_time": "2022-04-26T18:52:39.340Z"
   },
   {
    "duration": 15,
    "start_time": "2022-04-26T18:52:39.356Z"
   },
   {
    "duration": 38,
    "start_time": "2022-04-26T18:52:39.372Z"
   },
   {
    "duration": 8,
    "start_time": "2022-04-26T18:52:39.411Z"
   },
   {
    "duration": 10,
    "start_time": "2022-04-26T18:52:39.422Z"
   },
   {
    "duration": 8,
    "start_time": "2022-04-26T18:52:39.434Z"
   },
   {
    "duration": 4,
    "start_time": "2022-04-26T18:52:39.443Z"
   },
   {
    "duration": 21,
    "start_time": "2022-04-26T18:52:39.448Z"
   },
   {
    "duration": 15,
    "start_time": "2022-04-26T18:52:39.499Z"
   },
   {
    "duration": 15,
    "start_time": "2022-04-26T18:52:39.516Z"
   },
   {
    "duration": 12,
    "start_time": "2022-04-26T18:52:39.533Z"
   },
   {
    "duration": 2,
    "start_time": "2022-04-26T18:52:39.546Z"
   },
   {
    "duration": 7,
    "start_time": "2022-04-26T18:52:39.549Z"
   },
   {
    "duration": 6,
    "start_time": "2022-04-26T18:52:39.557Z"
   },
   {
    "duration": 4,
    "start_time": "2022-04-26T18:52:39.564Z"
   },
   {
    "duration": 9,
    "start_time": "2022-04-26T18:55:41.989Z"
   },
   {
    "duration": 11,
    "start_time": "2022-04-26T18:56:00.154Z"
   },
   {
    "duration": 4,
    "start_time": "2022-04-26T18:56:38.007Z"
   },
   {
    "duration": 10,
    "start_time": "2022-04-26T18:57:31.864Z"
   },
   {
    "duration": 5,
    "start_time": "2022-04-26T18:57:35.797Z"
   },
   {
    "duration": 10,
    "start_time": "2022-04-26T18:57:37.676Z"
   },
   {
    "duration": 351,
    "start_time": "2022-04-26T18:57:58.150Z"
   },
   {
    "duration": 151,
    "start_time": "2022-04-26T18:57:58.503Z"
   },
   {
    "duration": 18,
    "start_time": "2022-04-26T18:57:58.655Z"
   },
   {
    "duration": 37,
    "start_time": "2022-04-26T18:57:58.675Z"
   },
   {
    "duration": 8,
    "start_time": "2022-04-26T18:57:58.714Z"
   },
   {
    "duration": 13,
    "start_time": "2022-04-26T18:57:58.723Z"
   },
   {
    "duration": 6,
    "start_time": "2022-04-26T18:57:58.738Z"
   },
   {
    "duration": 24,
    "start_time": "2022-04-26T18:57:58.745Z"
   },
   {
    "duration": 37,
    "start_time": "2022-04-26T18:57:58.771Z"
   },
   {
    "duration": 21,
    "start_time": "2022-04-26T18:57:58.810Z"
   },
   {
    "duration": 70,
    "start_time": "2022-04-26T18:57:58.833Z"
   },
   {
    "duration": 67,
    "start_time": "2022-04-26T18:57:58.904Z"
   },
   {
    "duration": 67,
    "start_time": "2022-04-26T18:57:58.973Z"
   },
   {
    "duration": 35,
    "start_time": "2022-04-26T18:57:59.041Z"
   },
   {
    "duration": 2,
    "start_time": "2022-04-26T18:57:59.078Z"
   },
   {
    "duration": 23,
    "start_time": "2022-04-26T18:57:59.082Z"
   },
   {
    "duration": 36,
    "start_time": "2022-04-26T18:57:59.107Z"
   },
   {
    "duration": 11,
    "start_time": "2022-04-26T18:57:59.144Z"
   },
   {
    "duration": 11,
    "start_time": "2022-04-26T18:57:59.156Z"
   },
   {
    "duration": 32,
    "start_time": "2022-04-26T18:57:59.168Z"
   },
   {
    "duration": 18,
    "start_time": "2022-04-26T18:57:59.202Z"
   },
   {
    "duration": 12,
    "start_time": "2022-04-26T18:57:59.222Z"
   },
   {
    "duration": 14,
    "start_time": "2022-04-26T18:57:59.235Z"
   },
   {
    "duration": 11,
    "start_time": "2022-04-26T18:57:59.251Z"
   },
   {
    "duration": 45,
    "start_time": "2022-04-26T18:57:59.263Z"
   },
   {
    "duration": 12,
    "start_time": "2022-04-26T18:57:59.309Z"
   },
   {
    "duration": 8,
    "start_time": "2022-04-26T18:57:59.322Z"
   },
   {
    "duration": 12,
    "start_time": "2022-04-26T18:57:59.333Z"
   },
   {
    "duration": 8,
    "start_time": "2022-04-26T18:57:59.346Z"
   },
   {
    "duration": 8,
    "start_time": "2022-04-26T18:57:59.356Z"
   },
   {
    "duration": 36,
    "start_time": "2022-04-26T18:57:59.365Z"
   },
   {
    "duration": 11,
    "start_time": "2022-04-26T18:57:59.402Z"
   },
   {
    "duration": 14,
    "start_time": "2022-04-26T18:57:59.414Z"
   },
   {
    "duration": 9,
    "start_time": "2022-04-26T18:57:59.430Z"
   },
   {
    "duration": 9,
    "start_time": "2022-04-26T18:57:59.440Z"
   },
   {
    "duration": 4,
    "start_time": "2022-04-26T18:57:59.450Z"
   },
   {
    "duration": 7,
    "start_time": "2022-04-26T18:57:59.455Z"
   },
   {
    "duration": 42,
    "start_time": "2022-04-26T18:57:59.463Z"
   },
   {
    "duration": 5,
    "start_time": "2022-04-26T18:58:12.676Z"
   },
   {
    "duration": 348,
    "start_time": "2022-04-26T19:05:24.441Z"
   },
   {
    "duration": 157,
    "start_time": "2022-04-26T19:05:24.791Z"
   },
   {
    "duration": 17,
    "start_time": "2022-04-26T19:05:24.949Z"
   },
   {
    "duration": 37,
    "start_time": "2022-04-26T19:05:24.967Z"
   },
   {
    "duration": 3,
    "start_time": "2022-04-26T19:05:25.006Z"
   },
   {
    "duration": 16,
    "start_time": "2022-04-26T19:05:25.011Z"
   },
   {
    "duration": 10,
    "start_time": "2022-04-26T19:05:25.028Z"
   },
   {
    "duration": 30,
    "start_time": "2022-04-26T19:05:25.040Z"
   },
   {
    "duration": 18,
    "start_time": "2022-04-26T19:05:25.071Z"
   },
   {
    "duration": 22,
    "start_time": "2022-04-26T19:05:25.100Z"
   },
   {
    "duration": 64,
    "start_time": "2022-04-26T19:05:25.123Z"
   },
   {
    "duration": 86,
    "start_time": "2022-04-26T19:05:25.189Z"
   },
   {
    "duration": 67,
    "start_time": "2022-04-26T19:05:25.276Z"
   },
   {
    "duration": 37,
    "start_time": "2022-04-26T19:05:25.348Z"
   },
   {
    "duration": 16,
    "start_time": "2022-04-26T19:05:25.386Z"
   },
   {
    "duration": 22,
    "start_time": "2022-04-26T19:05:25.403Z"
   },
   {
    "duration": 37,
    "start_time": "2022-04-26T19:05:25.426Z"
   },
   {
    "duration": 13,
    "start_time": "2022-04-26T19:05:25.465Z"
   },
   {
    "duration": 22,
    "start_time": "2022-04-26T19:05:25.479Z"
   },
   {
    "duration": 3,
    "start_time": "2022-04-26T19:05:25.503Z"
   },
   {
    "duration": 20,
    "start_time": "2022-04-26T19:05:25.508Z"
   },
   {
    "duration": 13,
    "start_time": "2022-04-26T19:05:25.530Z"
   },
   {
    "duration": 13,
    "start_time": "2022-04-26T19:05:25.545Z"
   },
   {
    "duration": 12,
    "start_time": "2022-04-26T19:05:25.560Z"
   },
   {
    "duration": 16,
    "start_time": "2022-04-26T19:05:25.601Z"
   },
   {
    "duration": 13,
    "start_time": "2022-04-26T19:05:25.618Z"
   },
   {
    "duration": 9,
    "start_time": "2022-04-26T19:05:25.633Z"
   },
   {
    "duration": 10,
    "start_time": "2022-04-26T19:05:25.644Z"
   },
   {
    "duration": 10,
    "start_time": "2022-04-26T19:05:25.656Z"
   },
   {
    "duration": 33,
    "start_time": "2022-04-26T19:05:25.667Z"
   },
   {
    "duration": 19,
    "start_time": "2022-04-26T19:05:25.702Z"
   },
   {
    "duration": 11,
    "start_time": "2022-04-26T19:05:25.723Z"
   },
   {
    "duration": 16,
    "start_time": "2022-04-26T19:05:25.736Z"
   },
   {
    "duration": 10,
    "start_time": "2022-04-26T19:05:25.754Z"
   },
   {
    "duration": 37,
    "start_time": "2022-04-26T19:05:25.765Z"
   },
   {
    "duration": 4,
    "start_time": "2022-04-26T19:05:25.803Z"
   },
   {
    "duration": 9,
    "start_time": "2022-04-26T19:05:25.809Z"
   },
   {
    "duration": 4,
    "start_time": "2022-04-26T19:05:25.820Z"
   }
  ],
  "colab": {
   "collapsed_sections": [
    "E0vqbgi9ay0H",
    "VUC88oWjTJw2"
   ],
   "name": "yandex_music_project.ipynb",
   "provenance": []
  },
  "kernelspec": {
   "display_name": "Python 3 (ipykernel)",
   "language": "python",
   "name": "python3"
  },
  "language_info": {
   "codemirror_mode": {
    "name": "ipython",
    "version": 3
   },
   "file_extension": ".py",
   "mimetype": "text/x-python",
   "name": "python",
   "nbconvert_exporter": "python",
   "pygments_lexer": "ipython3",
   "version": "3.9.12"
  },
  "toc": {
   "base_numbering": 1,
   "nav_menu": {},
   "number_sections": true,
   "sideBar": true,
   "skip_h1_title": true,
   "title_cell": "Table of Contents",
   "title_sidebar": "Contents",
   "toc_cell": false,
   "toc_position": {},
   "toc_section_display": true,
   "toc_window_display": true
  }
 },
 "nbformat": 4,
 "nbformat_minor": 1
}
